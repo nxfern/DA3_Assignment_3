{
 "cells": [
  {
   "cell_type": "markdown",
   "id": "9627e788-cfd9-473f-b4b6-d8b8794265d6",
   "metadata": {},
   "source": [
    "## DA3 Assignment 3 - Nicolas Fernandez and Arbash Malik"
   ]
  },
  {
   "cell_type": "markdown",
   "id": "34612811-4392-493d-932c-ed749f2ee052",
   "metadata": {},
   "source": [
    "# 1. Loading Helper Libraries"
   ]
  },
  {
   "cell_type": "code",
   "execution_count": 156,
   "id": "a9ae39df-bbc1-402f-89ef-a9e60fb860e2",
   "metadata": {
    "tags": []
   },
   "outputs": [],
   "source": [
    "import warnings\n",
    "warnings.filterwarnings('ignore')\n",
    "\n",
    "import pandas as pd\n",
    "import numpy as np\n",
    "import os\n",
    "import sys\n",
    "import matplotlib.pyplot as plt\n",
    "import re\n",
    "import ast\n",
    "import patsy\n",
    "import datetime\n",
    "import math\n",
    "import statsmodels.api as sm\n",
    "import sklearn.metrics as metrics\n",
    "import seaborn as sns\n",
    "import matplotlib.pyplot as plt\n",
    "import statsmodels.formula.api as smf\n",
    "import time\n",
    "import plotly\n",
    "\n",
    "from pathlib                         import Path\n",
    "from plotnine                        import *\n",
    "from stargazer                       import stargazer\n",
    "from patsy                           import dmatrices\n",
    "from collections                     import defaultdict\n",
    "from plotnine.data                   import mpg\n",
    "from mizani.formatters               import percent_format\n",
    "from statsmodels.tools.eval_measures import mse,rmse\n",
    "from plotly.express import *\n",
    "\n",
    "from sklearn.model_selection import train_test_split, GridSearchCV, KFold, RandomizedSearchCV, RepeatedKFold\n",
    "from sklearn.model_selection import cross_val_score\n",
    "from sklearn.ensemble        import RandomForestRegressor, RandomForestClassifier\n",
    "from sklearn.ensemble        import HistGradientBoostingRegressor,GradientBoostingRegressor,GradientBoostingClassifier\n",
    "from sklearn.linear_model    import LinearRegression, LogisticRegression, LogisticRegressionCV, ElasticNet,Lasso\n",
    "from sklearn.metrics         import brier_score_loss, roc_curve, auc, confusion_matrix, roc_auc_score, mean_squared_error, accuracy_score\n",
    "from sklearn.preprocessing   import StandardScaler, OneHotEncoder\n",
    "from sklearn.inspection      import permutation_importance, PartialDependenceDisplay, partial_dependence\n",
    "from sklearn.compose         import ColumnTransformer\n",
    "from sklearn.pipeline        import Pipeline\n",
    "from sklearn.impute          import SimpleImputer\n",
    "from sklearn.tree            import DecisionTreeRegressor,DecisionTreeClassifier,plot_tree\n",
    "from scipy.stats.mstats      import winsorize"
   ]
  },
  {
   "cell_type": "code",
   "execution_count": 2,
   "id": "bc03b877-dc5e-4900-8036-9ece9741e7e7",
   "metadata": {
    "tags": []
   },
   "outputs": [],
   "source": [
    "path = Path(os.getcwd())\n",
    "tech_prep = os.path.join(str(path), \"utils\")\n",
    "sys.path.append(tech_prep)\n",
    "from py_helper_functions import *"
   ]
  },
  {
   "cell_type": "markdown",
   "id": "5698c07e-7842-4f97-a268-847a3c47abd8",
   "metadata": {},
   "source": [
    "# Defining helper Functions"
   ]
  },
  {
   "cell_type": "code",
   "execution_count": 3,
   "id": "af5bab16-00e4-40a7-98af-dd19350d5043",
   "metadata": {
    "tags": []
   },
   "outputs": [],
   "source": [
    "def regression_results(y_true, y_pred):\n",
    "\n",
    "    # Regression metrics\n",
    "    explained_variance = metrics.explained_variance_score(y_true, y_pred)\n",
    "    mean_absolute_error = metrics.mean_absolute_error(y_true, y_pred)\n",
    "    mse = metrics.mean_squared_error(y_true, y_pred)\n",
    "    median_absolute_error = metrics.median_absolute_error(y_true, y_pred)\n",
    "    r2 = metrics.r2_score(y_true, y_pred)\n",
    "\n",
    "    print(\"explained_variance: \", round(explained_variance, 4))\n",
    "    print(\"r2: \", round(r2, 4))\n",
    "    print(\"MAE: \", round(mean_absolute_error, 4))\n",
    "    print(\"MSE: \", round(mse, 4))\n",
    "    print(\"RMSE: \", round(np.sqrt(mse), 4))\n",
    "\n",
    "\n",
    "def coef_matrix(X, model):\n",
    "\n",
    "    coef_matrix = pd.concat(\n",
    "        [pd.DataFrame(X.columns), pd.DataFrame(np.transpose(model.coef_))], axis=1\n",
    "    )\n",
    "    coef_matrix.columns = [\"variable\", \"coefficient\"]\n",
    "    coef_matrix = coef_matrix.append(\n",
    "        {\"variable\": \"Intercept\", \"coefficient\": model.intercept_},\n",
    "        ignore_index=True,\n",
    "    )\n",
    "    return coef_matrix\n",
    "\n",
    "\n",
    "def cv_summary(lambdas, C_values, model):\n",
    "    d = {\n",
    "        \"lambdas\": lambdas,\n",
    "        \"C_values\": C_values,\n",
    "        \"mean_cv_score\": model.scores_[1].mean(axis=0),\n",
    "    }\n",
    "    return pd.DataFrame(data=d)\n",
    "\n",
    "\n",
    "def create_roc_plot(y_true, y_pred):\n",
    "    fpr, tpr, thresholds = roc_curve(y_true, y_pred)\n",
    "    all_coords = pd.DataFrame({\"fpr\": fpr, \"tpr\": tpr, \"thresholds\": thresholds})\n",
    "\n",
    "    plot = (\n",
    "        ggplot(all_coords, aes(x=\"fpr\", y=\"tpr\"))\n",
    "        + geom_line(color=color[0], size=0.7)\n",
    "        + geom_area(position=\"identity\", fill=\"mediumaquamarine\", alpha=0.3)\n",
    "        + xlab(\"False Positive Rate (1-Specifity)\")\n",
    "        + ylab(\"True Positive Rate (Sensitivity)\")\n",
    "        + geom_abline(intercept=0, slope=1, linetype=\"dotted\", color=\"black\")\n",
    "        + scale_y_continuous(limits=(0, 1), breaks=seq(0, 1, 0.1), expand=(0, 0.01))\n",
    "        + scale_x_continuous(limits=(0, 1), breaks=seq(0, 1, 0.1), expand=(0.01, 0))\n",
    "        + theme_bw()\n",
    "    )\n",
    "    return plot\n",
    "\n",
    "\n",
    "def sigmoid_array(x):\n",
    "    return 1 / (1 + np.exp(-x))\n",
    "\n",
    "\n",
    "def generate_fold_prediction(model, X, fold, param_index):\n",
    "    fold_coef = model.coefs_paths_[1][fold, param_index, :]\n",
    "    return sigmoid_array(\n",
    "        np.dot(X, np.transpose(fold_coef)[:-1]) + np.transpose(fold_coef)[-1]\n",
    "    )\n",
    "\n",
    "\n",
    "def create_loss_plot(all_coords, optimal_threshold, curr_exp_loss):\n",
    "    all_coords_copy = all_coords.copy()\n",
    "    all_coords_copy[\"loss\"] = (\n",
    "        all_coords_copy.false_pos * FP + all_coords_copy.false_neg * FN\n",
    "    ) / all_coords_copy.n\n",
    "\n",
    "    t = optimal_threshold\n",
    "    l = curr_exp_loss\n",
    "\n",
    "    plot = (\n",
    "        ggplot(all_coords_copy, aes(x=\"thresholds\", y=\"loss\"))\n",
    "        + geom_line(color=color[0], size=0.7)\n",
    "        + scale_x_continuous(breaks=seq(0, 1.1, by=0.1))\n",
    "        + coord_cartesian(xlim=(0, 1))\n",
    "        + geom_vline(xintercept=t, color=color[0])\n",
    "        + annotate(\n",
    "            geom=\"text\",\n",
    "            x=t - 0.01,\n",
    "            y=max(all_coords_copy.loss) - 0.4,\n",
    "            label=\"best threshold: \" + str(round(t, 2)),\n",
    "            colour=color[1],\n",
    "            angle=90,\n",
    "            size=7,\n",
    "        )\n",
    "        + annotate(geom=\"text\", x=t + 0.06, y=l, label=str(round(l, 2)), size=7)\n",
    "        + theme_bw()\n",
    "    )\n",
    "    return plot\n",
    "\n",
    "\n",
    "def create_roc_plot_with_optimal(all_coords, optimal_threshold):\n",
    "    all_coords_copy = all_coords.copy()\n",
    "    all_coords_copy[\"sp\"] = 1 - all_coords_copy.true_neg / all_coords_copy.neg\n",
    "    all_coords_copy[\"se\"] = all_coords_copy.true_pos / all_coords_copy.pos\n",
    "\n",
    "    best_coords = all_coords_copy[all_coords_copy.thresholds == optimal_threshold]\n",
    "    sp = best_coords.sp.values[0]\n",
    "    se = best_coords.se.values[0]\n",
    "\n",
    "    plot = (\n",
    "        ggplot(all_coords_copy, aes(x=\"sp\", y=\"se\"))\n",
    "        + geom_line(color=color[0], size=0.7)\n",
    "        + scale_y_continuous(breaks=seq(0, 1.1, by=0.1))\n",
    "        + scale_x_continuous(breaks=seq(0, 1.1, by=0.1))\n",
    "        + geom_point(data=pd.DataFrame({\"sp\": [sp], \"se\": [se]}))\n",
    "        + annotate(\n",
    "            geom=\"text\",\n",
    "            x=sp,\n",
    "            y=se + 0.03,\n",
    "            label=str(round(sp, 2)) + \", \" + str(round(se, 2)),\n",
    "            size=7,\n",
    "        )\n",
    "        + geom_area(position=\"identity\", fill=\"mediumaquamarine\", alpha=0.3)\n",
    "        + xlab(\"False Positive Rate (1-Specifity)\")\n",
    "        + ylab(\"True Positive Rate (Sensitivity)\")\n",
    "        + geom_abline(intercept=0, slope=1, linetype=\"dotted\", color=\"black\")\n",
    "        + theme_bw()\n",
    "    )\n",
    "    return plot"
   ]
  },
  {
   "cell_type": "markdown",
   "id": "232c4aac-0b85-4509-a5fa-efaada762305",
   "metadata": {},
   "source": [
    "# 2. Loading Dataset"
   ]
  },
  {
   "cell_type": "code",
   "execution_count": 4,
   "id": "e22f19b7-0e9e-4389-af83-d178bac5b46c",
   "metadata": {
    "tags": []
   },
   "outputs": [],
   "source": [
    "main_df = pd.read_csv('cs_bisnode_panel.csv')"
   ]
  },
  {
   "cell_type": "code",
   "execution_count": 5,
   "id": "45adf4ec-cd72-40e7-ace5-d60fd7c34f03",
   "metadata": {
    "tags": []
   },
   "outputs": [
    {
     "data": {
      "text/plain": [
       "(287829, 48)"
      ]
     },
     "execution_count": 5,
     "metadata": {},
     "output_type": "execute_result"
    }
   ],
   "source": [
    "main_df.shape"
   ]
  },
  {
   "cell_type": "code",
   "execution_count": 6,
   "id": "6035980c-277e-4ca2-9623-29ba3b9cc85b",
   "metadata": {
    "tags": []
   },
   "outputs": [],
   "source": [
    "main_df = (main_df.set_index([\"year\", \"comp_id\"]).unstack(fill_value=\"toReplace\").stack().reset_index())\n",
    "main_df = main_df.replace(\"toReplace\", np.nan) "
   ]
  },
  {
   "cell_type": "code",
   "execution_count": 7,
   "id": "5652e8ae-1eba-4fad-8f77-b6166693e7a2",
   "metadata": {
    "tags": []
   },
   "outputs": [
    {
     "data": {
      "text/plain": [
       "(556944, 48)"
      ]
     },
     "execution_count": 7,
     "metadata": {},
     "output_type": "execute_result"
    }
   ],
   "source": [
    "main_df.shape"
   ]
  },
  {
   "cell_type": "code",
   "execution_count": 8,
   "id": "a142dca9-06a2-4ea9-8131-b7b96c401f77",
   "metadata": {
    "tags": []
   },
   "outputs": [],
   "source": [
    "main_df[\"status_alive\"] = (main_df[\"sales\"] > 0 & (False == main_df[\"sales\"].isna())).astype(int)\n",
    "\n",
    "main_df[\"default\"] = ((main_df[\"status_alive\"] == 1) & (main_df.groupby(\"comp_id\")[\"status_alive\"].shift(-1) == 0)).astype(int)"
   ]
  },
  {
   "cell_type": "code",
   "execution_count": 9,
   "id": "a0343a10-6d96-408e-a05f-6764e42e0dc1",
   "metadata": {},
   "outputs": [],
   "source": [
    "main_df = main_df[(main_df['ind2'] == 26) & (main_df['status_alive'] == 1)]"
   ]
  },
  {
   "cell_type": "markdown",
   "id": "25effde2-72fc-40a9-b811-89d52c509a07",
   "metadata": {},
   "source": [
    "# 3. Feature Engineering"
   ]
  },
  {
   "cell_type": "markdown",
   "id": "ee7575b2-f96f-479f-96ae-c60a85826e02",
   "metadata": {},
   "source": [
    "#### Transforming and Creating `Sales` variables\n",
    "Here we examing the data and create columns to better organize and sort the data. The sales column in particular we take the log values of in order to normalize the distribution and then also take the squared values of that to account for any potential non-linearity in the data.\n",
    "\n",
    "We also examine the difference of sales year to year with the `d1_` columns within the data."
   ]
  },
  {
   "cell_type": "code",
   "execution_count": 10,
   "id": "33213c8f-8151-4104-b433-e5592e9d7a88",
   "metadata": {
    "tags": []
   },
   "outputs": [],
   "source": [
    "main_df[\"sales\"]    = np.where(main_df[\"sales\"] < 0, 1, main_df[\"sales\"])\n",
    "main_df[\"sales_ln\"] = np.where(main_df[\"sales\"] > 0, np.log(main_df[\"sales\"]),(np.where(main_df[\"sales\"].isna(), np.nan, 0)))\n",
    "\n",
    "main_df[\"sales_mil\"]      = main_df[\"sales\"] / 1000000\n",
    "main_df[\"sales_mil_ln\"]    = np.where(main_df[\"sales_mil\"] > 0, np.log(main_df[\"sales_mil\"]/ 1000000),(np.where(main_df[\"sales_mil\"].isna(), np.nan, 0)))\n",
    "main_df[\"sales_mil_ln_sq\"] = main_df[\"sales_mil_ln\"] ** 2\n",
    "\n",
    "main_df[\"d1_sales_mil\"]           = main_df[\"sales_mil\"] - main_df.groupby(\"comp_id\")[\"sales_mil\"].shift(1)\n",
    "main_df[\"d1_sales_mil_ln\"]        = main_df[\"sales_mil_ln\"] - main_df.groupby(\"comp_id\")[\"sales_mil_ln\"].shift(1)\n",
    "main_df[\"d1_sales_mil_ln\"]        = np.where(main_df[\"d1_sales_mil_ln\"].isna(), 0, main_df[\"d1_sales_mil_ln\"])\n",
    "main_df[\"d1_sales_mil_ln_mod\"]    = np.where(main_df[\"d1_sales_mil_ln\"] < -1.5,-1.5,np.where(main_df[\"d1_sales_mil_ln\"] > 1.5, 1.5, main_df[\"d1_sales_mil_ln\"]))\n",
    "main_df[\"d1_sales_mil_ln_mod_sq\"] = main_df[\"d1_sales_mil_ln_mod\"] ** 2\n",
    "\n",
    "main_df[\"flag_low_d1_sales_mil_ln\"]  = np.where(main_df[\"d1_sales_mil_ln\"] < -1.5, 1, 0)\n",
    "main_df[\"flag_high_d1_sales_mil_ln\"] = np.where(main_df[\"d1_sales_mil_ln\"] > 1.5, 1, 0)"
   ]
  },
  {
   "cell_type": "markdown",
   "id": "047c1fb7-f436-44b9-bd76-8fb3d998a0ad",
   "metadata": {},
   "source": [
    "#### Transforming and Creating `Firm Characteristic` variables\n",
    "We created `foreign_management` as a dummy variable to represent firms where the majority stakeholder in the company is foreign as a 1 and 0 when it's not.\n",
    "\n",
    "Along with this we created an `age` and `age_sq` column to represent the calculated age of the company, derived from the data by taking the difference between `year` and `founded_year`. In instances where `age` was less than or equal to 1 or where `ballsheet_notfullyear` was equal to 1, we created the dummy variable `new` to indicate that the company is to be considered new when these conditions are met.\n",
    "\n",
    "Also, we modified the `d1_sales_mil_ln` to account for when a company is considered to be new."
   ]
  },
  {
   "cell_type": "code",
   "execution_count": 11,
   "id": "8f6f495d-f1ef-4111-9855-9306af174f66",
   "metadata": {
    "tags": []
   },
   "outputs": [],
   "source": [
    "# Firm characteristics\n",
    "main_df[\"foreign_management\"] = np.where(main_df[\"foreign\"] >= 0.5, 1, np.where(main_df[\"foreign\"].isna(), np.nan, 0))\n",
    "\n",
    "main_df[\"age\"]  = np.where(main_df[\"year\"] - main_df[\"founded_year\"] < 0, 0, main_df[\"year\"] - main_df[\"founded_year\"])\n",
    "main_df[\"age_sq\"] = main_df[\"age\"] ** 2\n",
    "\n",
    "main_df[\"new\"] = np.where(((main_df[\"age\"] <= 1) | (main_df[\"balsheet_notfullyear\"] == 1)),1,(np.where(main_df[\"age\"].isna(), np.nan, 0)),)\n",
    "main_df[\"new\"] = np.where(main_df[\"d1_sales_mil_ln\"].isna(), 1, main_df[\"new\"])\n",
    "\n",
    "main_df[\"d1_sales_mil_ln\"] = np.where(main_df[\"new\"] == 1, 0, np.where(main_df[\"new\"].isna(), np.nan, main_df[\"d1_sales_mil_ln\"]))"
   ]
  },
  {
   "cell_type": "markdown",
   "id": "97249479-4789-48f2-a2c8-48c696e17f62",
   "metadata": {},
   "source": [
    "#### Transforming and Creating `Financial` variables\n",
    "Here we created a flag `flag_asset_problem` where any of the assets columns were showing as less than 0 because assets cannot be negative. In these instances we also changed the negative values to 0 in the respective columns.\n",
    "\n",
    "We then created a total assets column `total_assets_bs` that combines all the assets columns."
   ]
  },
  {
   "cell_type": "code",
   "execution_count": 12,
   "id": "eb3f5cd6-c75d-49d6-88f7-6f4f44919e58",
   "metadata": {
    "tags": []
   },
   "outputs": [],
   "source": [
    "# Assets can't be negative. Adding a flag.\n",
    "main_df[\"flag_asset_problem\"] = np.where(((main_df[\"intang_assets\"] < 0)\n",
    "                                           | (main_df[\"curr_assets\"] < 0)\n",
    "                                           | (main_df[\"fixed_assets\"] < 0)),1,0,)\n",
    "\n",
    "main_df[\"flag_asset_problem\"] = np.where(((main_df[\"intang_assets\"].isna())\n",
    "                                           | (main_df[\"curr_assets\"].isna())\n",
    "                                           | (main_df[\"fixed_assets\"].isna())),np.nan,main_df[\"flag_asset_problem\"],)"
   ]
  },
  {
   "cell_type": "code",
   "execution_count": 13,
   "id": "15220bf5-989e-4ede-8600-98cb762bbff5",
   "metadata": {
    "tags": []
   },
   "outputs": [],
   "source": [
    "# Assets can't be negative. Changing negative values to 0.\n",
    "main_df[\"intang_assets\"] = np.where(main_df[\"intang_assets\"] < 0, 0, main_df[\"intang_assets\"])\n",
    "main_df[\"curr_assets\"]   = np.where(main_df[\"curr_assets\"]   < 0, 0, main_df[\"curr_assets\"])\n",
    "main_df[\"fixed_assets\"]  = np.where(main_df[\"fixed_assets\"]  < 0, 0, main_df[\"fixed_assets\"])"
   ]
  },
  {
   "cell_type": "code",
   "execution_count": 14,
   "id": "13e1d641-7149-44e5-bc36-ad03c7cc8786",
   "metadata": {
    "tags": []
   },
   "outputs": [],
   "source": [
    "# Creating a total asset column\n",
    "main_df[\"total_assets_bs\"] = (main_df[\"intang_assets\"] + main_df[\"curr_assets\"] + main_df[\"fixed_assets\"])"
   ]
  },
  {
   "cell_type": "markdown",
   "id": "903b0ff9-73bb-4c46-984e-3dba33e9ebf1",
   "metadata": {},
   "source": [
    "Here we assign the columns that contain profit/loss information and columns that contain balance sheet information to their own variables to then divide them by sales and total assets respectively for the creation of ratio variables. In any instances where the division resulted in either infinity, negative infinity, or null values we imputed these values as 0 instead because it indicated there was a problem with the data."
   ]
  },
  {
   "cell_type": "code",
   "execution_count": 15,
   "id": "09af25d3-8b11-4571-b713-14bd0a1f749e",
   "metadata": {
    "tags": []
   },
   "outputs": [],
   "source": [
    "# Creating profit and loss variables \n",
    "profit_loss_variables = [\n",
    "    \"extra_exp\",\n",
    "    \"extra_inc\",\n",
    "    \"extra_profit_loss\",\n",
    "    \"inc_bef_tax\",\n",
    "    \"inventories\",\n",
    "    \"material_exp\",\n",
    "    \"profit_loss_year\",\n",
    "    \"personnel_exp\",\n",
    "]\n",
    "\n",
    "# Creating balance sheet variables \n",
    "balance_sheet_variables = [\n",
    "    \"intang_assets\",\n",
    "    \"curr_liab\",\n",
    "    \"fixed_assets\",\n",
    "    \"liq_assets\",\n",
    "    \"curr_assets\",\n",
    "    \"share_eq\",\n",
    "    \"subscribed_cap\",\n",
    "    \"tang_assets\",\n",
    "]\n",
    "\n",
    "# Dividing all profit loss and balance sheet variables by sales and creating a new column for it\n",
    "main_df[[col + \"_pl\" for col in profit_loss_variables]] = (main_df[profit_loss_variables].div(main_df[\"sales\"], axis=\"index\").replace((np.inf, -np.inf, np.nan), (0, 0, 0)))\n",
    "main_df[[col + \"_bs\" for col in balance_sheet_variables]] = (main_df[balance_sheet_variables].div(main_df[\"total_assets_bs\"], axis=\"index\").replace((np.inf, -np.inf, np.nan), (0, 0, 0)))\n",
    "\n",
    "# Get null values where total_assets_bs is NaN\n",
    "for col in balance_sheet_variables: \n",
    "    main_df[col + \"_bs\"] = np.where(main_df[\"total_assets_bs\"].isna(), np.nan, main_df[col + \"_bs\"])"
   ]
  },
  {
   "cell_type": "markdown",
   "id": "208fef60-cbfc-4150-b0c2-73830881d51d",
   "metadata": {},
   "source": [
    "### Creating flags\n",
    "Here we create flags on the columns created above to denote when there's a ratio that's outside of the 0-1 range for whatever reason."
   ]
  },
  {
   "cell_type": "code",
   "execution_count": 16,
   "id": "bec2ba53-fb73-48e1-ad0f-fb8f9308ed88",
   "metadata": {
    "tags": []
   },
   "outputs": [],
   "source": [
    "# Variables that represent accounting items that cannot be negative (e.g. materials)\n",
    "\n",
    "acc_vars = [\n",
    "    \"extra_exp_pl\",\n",
    "    \"extra_inc_pl\",\n",
    "    \"inventories_pl\",\n",
    "    \"material_exp_pl\",\n",
    "    \"personnel_exp_pl\",\n",
    "    \"curr_liab_bs\",\n",
    "    \"fixed_assets_bs\",\n",
    "    \"liq_assets_bs\",\n",
    "    \"curr_assets_bs\",\n",
    "    \"subscribed_cap_bs\",\n",
    "    \"intang_assets_bs\",\n",
    "]\n",
    "\n",
    "main_df[[col + \"_flag_high\" for col in acc_vars]]  = np.where(main_df[acc_vars].isna(), np.nan, (main_df[acc_vars] > 1).astype(int))\n",
    "main_df[[col + \"_flag_error\" for col in acc_vars]] = np.where(main_df[acc_vars].isna(), np.nan, (main_df[acc_vars] < 0).astype(int))\n",
    "\n",
    "main_df[[col for col in acc_vars]] = np.where(main_df[acc_vars].isna(), np.nan, np.where(main_df[acc_vars] > 1, 1, main_df[acc_vars]))\n",
    "main_df[[col for col in acc_vars]] = np.where(main_df[acc_vars].isna(), np.nan, np.where(main_df[acc_vars] < 0, 0, main_df[acc_vars]))"
   ]
  },
  {
   "cell_type": "code",
   "execution_count": 17,
   "id": "c1b44121-a63a-40f1-acdf-4d01f69c3a3e",
   "metadata": {
    "tags": []
   },
   "outputs": [],
   "source": [
    "# For variables that could be any, but are mostly between -1 and 1\n",
    "anyof = [\"extra_profit_loss_pl\", \"inc_bef_tax_pl\", \"profit_loss_year_pl\", \"share_eq_bs\"]\n",
    "\n",
    "main_df[[col + \"_flag_high\" for col in anyof]] = np.where(main_df[anyof].isna(), np.nan, (main_df[anyof] > 1).astype(int))\n",
    "main_df[[col + \"_flag_low\"  for col in anyof]] = np.where(main_df[anyof].isna(), np.nan, (main_df[anyof] < -1).astype(int))\n",
    "main_df[[col + \"_flag_zero\" for col in anyof]] = np.where(main_df[anyof].isna(), np.nan, (main_df[anyof] == 0).astype(int))\n",
    "main_df[[col + \"_quad\"      for col in anyof]] = np.where(main_df[anyof].isna(), np.nan, main_df[anyof] ** 2)\n",
    "\n",
    "\n",
    "main_df[[col for col in anyof]] = np.where(main_df[anyof].isna(), np.nan, np.where((main_df[anyof] < -1), -1, main_df[anyof]))\n",
    "main_df[[col for col in anyof]] = np.where(main_df[anyof].isna(), np.nan, np.where((main_df[anyof] > 1), 1, main_df[anyof]))"
   ]
  },
  {
   "cell_type": "markdown",
   "id": "fecb5637-7c1d-445f-9d57-8701dca3901a",
   "metadata": {},
   "source": [
    "For any of the flags that we created that don't have any standard deviation (i.e. nothing different denoted) we drop the flag columns."
   ]
  },
  {
   "cell_type": "code",
   "execution_count": 18,
   "id": "451a38b1-6677-46d6-9fd7-1a6b048c9650",
   "metadata": {
    "tags": []
   },
   "outputs": [],
   "source": [
    "# Dropping flag columns with 0 standard deviation\n",
    "flag_columns = [col for col in main_df.columns if \"flag\" in col]\n",
    "main_df = main_df.drop(main_df[flag_columns].std()[(main_df[flag_columns].std() == 0)].index, axis=1)"
   ]
  },
  {
   "cell_type": "markdown",
   "id": "050fcb27-8667-4074-b455-3a77a895d2b0",
   "metadata": {},
   "source": [
    "We create a variable `ceo_age` by calculating the difference between `year` and `birth_year` with `birth_year` being the year the CEO was born in. We then create flags to denote whether there is an issue with `ceo_age` (whether it's below 25 or above 75 or if there's a null value) and then also create `ceo_young` as a dummy variable that equals 1 when the CEO's age is less then 40."
   ]
  },
  {
   "cell_type": "code",
   "execution_count": 19,
   "id": "6f961a4a-7a3e-45a1-9b66-4a4ee2d30f6c",
   "metadata": {
    "tags": []
   },
   "outputs": [],
   "source": [
    "# Creating CEO age variable and imputing \n",
    "main_df[\"ceo_age\"] = main_df[\"year\"] - main_df[\"birth_year\"]\n",
    "\n",
    "main_df = main_df.assign(flag_low_ceo_age  = (main_df[\"ceo_age\"] < 25).astype(int),\n",
    "                         flag_high_ceo_age = (main_df[\"ceo_age\"] > 75).astype(int),\n",
    "                         flag_miss_ceo_age = (main_df[\"ceo_age\"].isna()).astype(int)\n",
    "                        )\n",
    "main_df[\"ceo_age\"] = np.where(main_df[\"ceo_age\"] < 25, 25, main_df[\"ceo_age\"])\n",
    "main_df[\"ceo_age\"] = np.where(main_df[\"ceo_age\"] > 75, 75, main_df[\"ceo_age\"])\n",
    "main_df[\"ceo_age\"] = np.where(main_df[\"ceo_age\"].isna(), main_df[\"ceo_age\"].mean(), main_df[\"ceo_age\"])\n",
    "\n",
    "main_df[\"ceo_young\"] = (main_df[\"ceo_age\"] < 40).astype(int)"
   ]
  },
  {
   "cell_type": "markdown",
   "id": "f1f0c114-b383-4aec-83a1-c3e95a821dcd",
   "metadata": {
    "tags": []
   },
   "source": [
    "### Creating `First Difference` variables\n",
    "These variables are created by taking the year-to-year difference between their respective columns in order to account for any potential growth or downsizing for each company."
   ]
  },
  {
   "cell_type": "code",
   "execution_count": 20,
   "id": "be1ed770-200d-41ed-8658-ebf9ebd36787",
   "metadata": {},
   "outputs": [],
   "source": [
    "main_df[\"d1_COGS\"]             = main_df[\"COGS\"] - main_df.groupby(\"comp_id\")[\"COGS\"].shift(1)\n",
    "main_df[\"d1_curr_assets\"]      = main_df[\"curr_assets\"] - main_df.groupby(\"comp_id\")[\"curr_assets\"].shift(1)\n",
    "main_df[\"d1_curr_liab\"]        = main_df[\"curr_liab\"] - main_df.groupby(\"comp_id\")[\"curr_liab\"].shift(1)\n",
    "main_df[\"d1_inc_bef_tax\"]      = main_df[\"inc_bef_tax\"] - main_df.groupby(\"comp_id\")[\"inc_bef_tax\"].shift(1)\n",
    "main_df[\"d1_net_dom_sales\"]    = main_df[\"net_dom_sales\"] - main_df.groupby(\"comp_id\")[\"net_dom_sales\"].shift(1)\n",
    "main_df[\"d1_net_exp_sales\"]    = main_df[\"net_exp_sales\"] - main_df.groupby(\"comp_id\")[\"net_exp_sales\"].shift(1)\n",
    "main_df[\"d1_wages\"]            = main_df[\"wages\"] - main_df.groupby(\"comp_id\")[\"wages\"].shift(1)\n",
    "main_df[\"d1_profit_loss_year\"] = main_df[\"profit_loss_year\"] - main_df.groupby(\"comp_id\")[\"profit_loss_year\"].shift(1)\n",
    "main_df[\"d1_fixed_assets\"]     = main_df[\"fixed_assets\"] - main_df.groupby(\"comp_id\")[\"fixed_assets\"].shift(1)\n",
    "main_df[\"d1_inventories\"]      = main_df[\"inventories\"] - main_df.groupby(\"comp_id\")[\"inventories\"].shift(1)\n",
    "main_df[\"d1_personnel_exp\"]    = main_df[\"personnel_exp\"] - main_df.groupby(\"comp_id\")[\"personnel_exp\"].shift(1)\n",
    "main_df[\"d1_total_assets_bs\"]  = main_df[\"total_assets_bs\"] - main_df.groupby(\"comp_id\")[\"personnel_exp\"].shift(1)\n"
   ]
  },
  {
   "cell_type": "markdown",
   "id": "513561d3-9966-409d-80ed-2c1bbb407725",
   "metadata": {},
   "source": [
    "### Dummy Variables\n",
    "Below we create dummy variables to account for categorical columns in the data. For instance `gender_female` when the majority gender in the company is female and `region_east` when the region of the company is within the eastern portion of the United States. We also create dummy variables for each year within the data such as `year_2013` to denote whether the year in the data is 2013 since `year` is a categorical column."
   ]
  },
  {
   "cell_type": "code",
   "execution_count": 21,
   "id": "90b04cad-975d-406d-b953-c10354c7fb08",
   "metadata": {
    "tags": []
   },
   "outputs": [],
   "source": [
    "main_df[\"default_f\"] = main_df[\"default\"].astype(\"category\")\n",
    "main_df[\"default_f\"] = main_df[\"default_f\"].cat.rename_categories([\"no_default\", \"default\"])\n",
    "main_df[\"year_f\"] = main_df[\"year\"].astype(\"category\")\n",
    "\n",
    "# Creating dummy variables for gender and region\n",
    "main_df['gender_female']  = (main_df.gender == 'female').astype(int)\n",
    "main_df['gender_male']    = (main_df.gender == 'male').astype(int)\n",
    "main_df['region_central'] = (main_df.region_m == 'Central').astype(int)\n",
    "main_df['region_east']    = (main_df.region_m == 'East').astype(int)\n",
    "main_df['urban_capital']  = (main_df.urban_m == 1).astype(int)\n",
    "main_df['urban_bigcity']  = (main_df.urban_m == 2).astype(int)"
   ]
  },
  {
   "cell_type": "code",
   "execution_count": 22,
   "id": "0551731f-40ef-4418-9ea1-509a26b1a13b",
   "metadata": {
    "tags": []
   },
   "outputs": [],
   "source": [
    "year_dummies = pd.get_dummies(main_df['year'], prefix='year').astype(int)\n",
    "main_df = pd.concat([main_df, year_dummies], axis=1)"
   ]
  },
  {
   "cell_type": "code",
   "execution_count": 23,
   "id": "756a7181-581b-42ee-b581-a6c1eed1b164",
   "metadata": {
    "tags": []
   },
   "outputs": [],
   "source": [
    "for col in main_df.select_dtypes(include=[\"category\"]).columns:\n",
    "    main_df[col] = main_df[col].cat.remove_unused_categories()"
   ]
  },
  {
   "cell_type": "code",
   "execution_count": 24,
   "id": "8a238d4e-619e-48d5-9b7d-d2aee7c08dfb",
   "metadata": {},
   "outputs": [
    {
     "data": {
      "text/plain": [
       "count    1.320500e+04\n",
       "mean     1.591749e+06\n",
       "std      7.175393e+06\n",
       "min      3.703704e+00\n",
       "25%      2.098519e+04\n",
       "50%      7.963334e+04\n",
       "75%      3.505704e+05\n",
       "max      1.107458e+08\n",
       "Name: sales, dtype: float64"
      ]
     },
     "execution_count": 24,
     "metadata": {},
     "output_type": "execute_result"
    }
   ],
   "source": [
    "main_df['sales'].describe()"
   ]
  },
  {
   "cell_type": "code",
   "execution_count": 25,
   "id": "d07034c5-cf03-4c23-968b-4038e3b355cc",
   "metadata": {
    "tags": []
   },
   "outputs": [
    {
     "data": {
      "text/plain": [
       "(13205, 149)"
      ]
     },
     "execution_count": 25,
     "metadata": {},
     "output_type": "execute_result"
    }
   ],
   "source": [
    "main_df.shape"
   ]
  },
  {
   "cell_type": "markdown",
   "id": "ae085257-50a6-41c4-b4b0-3dc2fbe6cbf2",
   "metadata": {},
   "source": [
    "# 4. Variable Selection\n",
    "Here we select the variables to potentially include in all of our models, including interaction terms for the OLS and LASSO.\n",
    "\n",
    "The columns assigned to variables are as follows:\n",
    "- `sales_vars` - This includes the sales and transofmed sales columns as it is a great measure of a company's performance\n",
    "- `quality_vars` - Here we include the balance sheet columns for accounting for transparency in their financial reporting\n",
    "- `profit_loss_vars` - We account for the profit/loss of a company since this is also a measure of a company's performance\n",
    "- `balance_sheet_vars` - Including the balance sheet variables since it can indicate whether a company is likley to default\n",
    "- `human_capital_vars` - This represents characteristics of senior management for ecah company, for instance foreign majority CEOs or if the share of female CEOs is the majority\n",
    "- `firm_charac_vars` - These represent characteristics of each company, for example if majority gender of personnel is female, or if the company is in the central region of Europe\n",
    "- `d1_vars` - These account for changes in year-to-year across companies to check for trends, either positive or negative\n",
    "- `engineered_vars` - These are to account for any trend in the data when examining the ratios that have been engineered from the data itself\n",
    "- Interactions have been made between sales and certain categorical variables that may affect the `sales` column data, for example the majority gender of personnel or the region location of the company. These have been broken up into two difference variables, one to include in an OLS model and then the other to include in the LASSO.\n",
    "- `flag_vars` - These are the accumulate all of the flag variables that were created and assign them to a variable"
   ]
  },
  {
   "cell_type": "code",
   "execution_count": 26,
   "id": "51d16b4d-c469-475c-a58e-08b0b73058f6",
   "metadata": {
    "tags": []
   },
   "outputs": [],
   "source": [
    "## Main Firm Variables ##\n",
    "sales_vars = [\"sales_mil\",\"sales_ln\",\"sales_mil_ln\",\"sales_mil_ln_sq\"]\n",
    "\n",
    "quality_vars = [\"balsheet_flag\", \"balsheet_length\", \"balsheet_notfullyear\"]\n",
    "\n",
    "profit_loss_vars = [\"extra_exp\",\"extra_inc\",\"extra_profit_loss\",\"inc_bef_tax\",\"inventories\",\"material_exp\",\"profit_loss_year\",\"personnel_exp\"]\n",
    "\n",
    "d1_vars = [\"d1_sales_mil\", \"d1_curr_assets\", \"d1_curr_liab\", \"d1_inc_bef_tax\",\"d1_profit_loss_year\", \"d1_fixed_assets\", \"d1_inventories\"\n",
    "           , \"d1_personnel_exp\",\"d1_total_assets_bs\",\"d1_sales_mil_ln\",\"d1_sales_mil_ln_mod\",\"d1_sales_mil_ln_mod_sq\",\"flag_low_d1_sales_mil_ln\",\"flag_high_d1_sales_mil_ln\"]\n",
    "\n",
    "balance_sheet_vars = [\"intang_assets\",\"curr_liab\",\"fixed_assets\",\"liq_assets\",\"curr_assets\",\"share_eq\",\"subscribed_cap\",\"tang_assets\",\"total_assets_bs\"]\n",
    "\n",
    "engineered_vars = [\"fixed_assets_bs\", \"liq_assets_bs\",\"curr_assets_bs\",\"share_eq_bs\",\"subscribed_cap_bs\",\"intang_assets_bs\"\n",
    "                   ,\"extra_exp_pl\",\"extra_inc_pl\",\"extra_profit_loss_pl\",\"inc_bef_tax_pl\",\"inventories_pl\",\"material_exp_pl\",\"profit_loss_year_pl\",\"personnel_exp_pl\"\n",
    "                   ,\"extra_profit_loss_pl_quad\",\"inc_bef_tax_pl_quad\",\"profit_loss_year_pl_quad\",\"share_eq_bs_quad\"]\n",
    "\n",
    "human_capital_vars = [\"female\",\"ceo_age\",\"ceo_count\",\"foreign_management\"]\n",
    "\n",
    "firm_charac_numeric = [\"age\", \"age_sq\", \"new\"]\n",
    "\n",
    "firm_charac_cat = ['gender_female', 'gender_male', 'region_central', 'region_east','urban_capital','urban_bigcity']\n",
    "\n",
    "interactions1 = ['gender_female*sales_ln','gender_male*sales_ln','region_central*sales_ln','region_east*sales_ln','urban_capital*sales_ln','urban_bigcity*sales_ln']\n",
    "\n",
    "year_dummy_vars = year_dummies.columns.tolist()\n",
    "\n",
    "flag_vars = []\n",
    "for col in main_df.columns:\n",
    "    if \"flag\" in col:\n",
    "        flag_vars.append(col)   \n",
    "        \n",
    "        \n",
    "flag_vars = [col for col in flag_vars if 'd1' not in col]"
   ]
  },
  {
   "cell_type": "markdown",
   "id": "69dc1d01-7163-4a82-ae50-94ca7e39f8a7",
   "metadata": {},
   "source": [
    "Here we create a function in order to winsorize the data in columns of our choosing. The penalties chosen given our data were the 1st percentile and the 90th percentile. The data has a long right tail due to some extreme values in the data and therefore a stricter 90 percent was used instead of the more classical 95 percent. We choose just the 1st percent because we want to account for the zombie firms that may exist that don't actually have any sales values or profit but also not discount the really small and/or struggling firms.\n",
    "\n",
    "The columns that were selected to be winsorized were all of the manually created variables instead of the original data because winsorizing the original data could influence the holdout set that we are creating whereas the manually created variables would not do so and also we can make better inferences on the values of these columns as well since they were manually created."
   ]
  },
  {
   "cell_type": "code",
   "execution_count": 27,
   "id": "df618648-3568-4113-88b9-68fd25c7f8fd",
   "metadata": {
    "tags": []
   },
   "outputs": [],
   "source": [
    "def winsorize_columns(data, columns):\n",
    "    data_copy = data.copy()\n",
    "    for column in columns:\n",
    "        if column in data_copy.columns:\n",
    "            data_copy[column] = winsorize(data_copy[column], limits=(0.01, 0.1))  # Set limits to 1st and 90th percentiles\n",
    "    return data_copy\n",
    "\n",
    "to_winsorize = d1_vars + engineered_vars + flag_vars + human_capital_vars\n",
    "\n",
    "\n",
    "main_df = winsorize_columns(main_df,to_winsorize)"
   ]
  },
  {
   "cell_type": "markdown",
   "id": "bec119d9-1fab-4041-8a3b-ac483870c428",
   "metadata": {},
   "source": [
    "Various tests for variable selection were made from results from the models. From testing, the variables below are the variables that resulted in the best performance of the models."
   ]
  },
  {
   "cell_type": "code",
   "execution_count": 28,
   "id": "1b0ad744-4a5d-4b8c-9004-8bea2e4024aa",
   "metadata": {},
   "outputs": [],
   "source": [
    "# changed order 3 = 0.5699\n",
    "all_vars = sales_vars + profit_loss_vars + quality_vars + balance_sheet_vars + d1_vars + engineered_vars + firm_charac_numeric"
   ]
  },
  {
   "cell_type": "markdown",
   "id": "fd38d648-7eee-4bfa-8e30-1ad31c454f98",
   "metadata": {},
   "source": [
    "_____________________________________________________________\n",
    "# Split training and test datasets\n",
    "Here we create the holdout set for our data. The specifics of the holdout set are as follows for firms:\n",
    "- `ind2` == 26 (26 as the selected industry)\n",
    "- Yearly sales in 2014 between 1000 and 10 million EUR (Small or Medium Enterprises)"
   ]
  },
  {
   "cell_type": "code",
   "execution_count": 29,
   "id": "ee636180-e958-490a-82b8-7161f78299c2",
   "metadata": {
    "tags": []
   },
   "outputs": [
    {
     "name": "stdout",
     "output_type": "stream",
     "text": [
      "(12168, 149) (1037, 149)\n",
      "default\n",
      "0    981\n",
      "1     56\n",
      "Name: count, dtype: int64\n"
     ]
    }
   ],
   "source": [
    "holdout_df = main_df[(main_df['year'] == 2014) & (main_df['sales'] >= 1000) & (main_df['sales'] <= 10000000)]\n",
    "train_df = main_df[~main_df.index.isin(holdout_df.index)]\n",
    "print(train_df.shape,holdout_df.shape)\n",
    "print(holdout_df['default'].value_counts())"
   ]
  },
  {
   "cell_type": "markdown",
   "id": "643f4a7d-24e2-49eb-85f2-397e434cea07",
   "metadata": {
    "tags": []
   },
   "source": [
    "The end result of these filters gives us a holdout set with 1037 observations, 981 of which are labelled as defaulted and 56 of which did not.\n",
    "\n",
    "Defaulted is defined as follows: The company existed in 2014 (`sales` > 0) but did not exist in 2015 (`sales` either 0 or null)"
   ]
  },
  {
   "cell_type": "code",
   "execution_count": 30,
   "id": "565a8dfb-d04e-4075-a86b-521c85e1d840",
   "metadata": {
    "tags": []
   },
   "outputs": [
    {
     "data": {
      "text/plain": [
       "year_f\n",
       "2014    1037\n",
       "2005       0\n",
       "2006       0\n",
       "2007       0\n",
       "2008       0\n",
       "2009       0\n",
       "2010       0\n",
       "2011       0\n",
       "2012       0\n",
       "2013       0\n",
       "2015       0\n",
       "2016       0\n",
       "Name: count, dtype: int64"
      ]
     },
     "execution_count": 30,
     "metadata": {},
     "output_type": "execute_result"
    }
   ],
   "source": [
    "holdout_df.year_f.value_counts()"
   ]
  },
  {
   "cell_type": "code",
   "execution_count": 31,
   "id": "4f0825fe-9f92-4350-aa1f-0162cf653243",
   "metadata": {
    "tags": []
   },
   "outputs": [],
   "source": [
    "for col in holdout_df.select_dtypes(include=[\"category\"]).columns:\n",
    "    holdout_df[col] = holdout_df[col].cat.remove_unused_categories()"
   ]
  },
  {
   "cell_type": "code",
   "execution_count": 32,
   "id": "519d50e6-b70f-487c-822d-608765539ce2",
   "metadata": {
    "tags": []
   },
   "outputs": [
    {
     "data": {
      "text/plain": [
       "year_f\n",
       "2014    1037\n",
       "Name: count, dtype: int64"
      ]
     },
     "execution_count": 32,
     "metadata": {},
     "output_type": "execute_result"
    }
   ],
   "source": [
    "holdout_df.year_f.value_counts()"
   ]
  },
  {
   "cell_type": "code",
   "execution_count": 33,
   "id": "a82da70c-04bf-4f59-85b2-4316a8dc7ae5",
   "metadata": {
    "tags": []
   },
   "outputs": [],
   "source": [
    "pd.set_option('display.float_format', lambda x: '%.5f' % x)"
   ]
  },
  {
   "cell_type": "code",
   "execution_count": 34,
   "id": "23d92c9f-2dfb-4583-bbbc-760cf6af540f",
   "metadata": {
    "tags": []
   },
   "outputs": [
    {
     "data": {
      "text/plain": [
       "count   1037.00000\n",
       "mean       0.49020\n",
       "std        1.15409\n",
       "min        0.00107\n",
       "25%        0.02177\n",
       "50%        0.07270\n",
       "75%        0.33389\n",
       "max        9.57648\n",
       "Name: sales_mil, dtype: float64"
      ]
     },
     "execution_count": 34,
     "metadata": {},
     "output_type": "execute_result"
    }
   ],
   "source": [
    "holdout_df.sales_mil.describe()"
   ]
  },
  {
   "cell_type": "markdown",
   "id": "6fd64a93-dfe1-45d2-af6d-9aa2d6f44174",
   "metadata": {},
   "source": [
    "The descriptive statistics for the `sales_mil` column on the holdout set show that the average sales of firms is .4902 million EUR with the minimum of .00107 million EUR and the maximum as 9.57648 mil EUR\n",
    "___\n",
    "### Label Engineering\n",
    "Below we viewed the null values in columns for variables we selected for modelling and decided to impute them with the mean values for their respective columns for the holdout set or mode value if it's a binary. We decided to use the mean values because given the low amount of nulls overall in each column, the mean and mode values can be considered to preserve their respective values and minimize bias in the estimation of other variables. We perform the same operations on the training set as well."
   ]
  },
  {
   "cell_type": "code",
   "execution_count": 35,
   "id": "1f071b96-5f08-415e-b4a0-65e4022328bf",
   "metadata": {},
   "outputs": [
    {
     "name": "stdout",
     "output_type": "stream",
     "text": [
      "'material_exp' has 2 NaN values and 1024 distinct values.\n",
      "'personnel_exp' has 2 NaN values and 852 distinct values.\n",
      "'d1_sales_mil' has 31 NaN values and 997 distinct values.\n",
      "'d1_curr_assets' has 31 NaN values and 988 distinct values.\n",
      "'d1_curr_liab' has 31 NaN values and 977 distinct values.\n",
      "'d1_inc_bef_tax' has 31 NaN values and 992 distinct values.\n",
      "'d1_profit_loss_year' has 31 NaN values and 933 distinct values.\n",
      "'d1_fixed_assets' has 31 NaN values and 839 distinct values.\n",
      "'d1_inventories' has 31 NaN values and 596 distinct values.\n",
      "'d1_personnel_exp' has 34 NaN values and 839 distinct values.\n",
      "'d1_total_assets_bs' has 34 NaN values and 992 distinct values.\n",
      "'d1_sales_mil_ln' has 25 NaN values and 930 distinct values.\n",
      "'age' has 31 NaN values and 28 distinct values.\n",
      "'age_sq' has 31 NaN values and 28 distinct values.\n",
      "'new' has 25 NaN values and 2 distinct values.\n"
     ]
    }
   ],
   "source": [
    "for col in all_vars:\n",
    "    nan_count = holdout_df[col].isna().sum()\n",
    "    if nan_count > 0:\n",
    "        distinct_values = holdout_df[col].nunique(dropna=True)\n",
    "        print(f\"'{col}' has {nan_count} NaN values and {distinct_values} distinct values.\")\n"
   ]
  },
  {
   "cell_type": "code",
   "execution_count": 36,
   "id": "14a86e1c-fac7-4c7d-9360-eca1169d2c5b",
   "metadata": {
    "tags": []
   },
   "outputs": [],
   "source": [
    "for col in all_vars:\n",
    "    nan_count = holdout_df[col].isna().sum()\n",
    "    distinct_values = holdout_df[col].nunique(dropna=True)\n",
    "    \n",
    "    if nan_count > 0:\n",
    "        if distinct_values > 2:\n",
    "            median_value = holdout_df[col].mean()\n",
    "            holdout_df[col].fillna(median_value, inplace=True)\n",
    "        else:\n",
    "            mode_value = train_df[col].mode().iloc[0]\n",
    "            holdout_df[col].fillna(mode_value, inplace=True)"
   ]
  },
  {
   "cell_type": "code",
   "execution_count": 37,
   "id": "066839c6-06f6-4b8b-9922-e22d1a72b6a4",
   "metadata": {
    "tags": []
   },
   "outputs": [],
   "source": [
    "for col in all_vars:\n",
    "    nan_count = holdout_df[col].isna().sum()\n",
    "    if nan_count > 0:\n",
    "        distinct_values = holdout_df[col].nunique(dropna=True)\n",
    "        print(f\"'{col}' has {nan_count} NaN values and {distinct_values} distinct values.\")\n"
   ]
  },
  {
   "cell_type": "code",
   "execution_count": 38,
   "id": "fded5376-959f-487a-8b16-266b93b4dcfe",
   "metadata": {
    "tags": []
   },
   "outputs": [],
   "source": [
    "train_df = train_df.loc[(train_df['sales'] >= 1000) & (train_df['sales'] <= 10000000) & (train_df['year'] <= 2013)]"
   ]
  },
  {
   "cell_type": "code",
   "execution_count": 39,
   "id": "acb4be98-091a-4b98-94b8-a934017794f4",
   "metadata": {
    "tags": []
   },
   "outputs": [
    {
     "data": {
      "text/plain": [
       "year_f\n",
       "2009    1149\n",
       "2008    1128\n",
       "2010    1128\n",
       "2011    1095\n",
       "2012    1080\n",
       "2007    1062\n",
       "2013    1050\n",
       "2006    1015\n",
       "2005     982\n",
       "2014       0\n",
       "2015       0\n",
       "2016       0\n",
       "Name: count, dtype: int64"
      ]
     },
     "execution_count": 39,
     "metadata": {},
     "output_type": "execute_result"
    }
   ],
   "source": [
    "train_df.year_f.value_counts()"
   ]
  },
  {
   "cell_type": "code",
   "execution_count": 40,
   "id": "9f651a31-cca5-4f80-a73f-1a7b1777b750",
   "metadata": {
    "tags": []
   },
   "outputs": [],
   "source": [
    "for col in train_df.select_dtypes(include=[\"category\"]).columns:\n",
    "    train_df[col] = train_df[col].cat.remove_unused_categories()"
   ]
  },
  {
   "cell_type": "code",
   "execution_count": 41,
   "id": "40d6141a-a3b0-48ff-839c-adc93315133d",
   "metadata": {
    "tags": []
   },
   "outputs": [
    {
     "data": {
      "text/plain": [
       "year_f\n",
       "2009    1149\n",
       "2008    1128\n",
       "2010    1128\n",
       "2011    1095\n",
       "2012    1080\n",
       "2007    1062\n",
       "2013    1050\n",
       "2006    1015\n",
       "2005     982\n",
       "Name: count, dtype: int64"
      ]
     },
     "execution_count": 41,
     "metadata": {},
     "output_type": "execute_result"
    }
   ],
   "source": [
    "train_df.year_f.value_counts()"
   ]
  },
  {
   "cell_type": "code",
   "execution_count": 42,
   "id": "837dd971-1166-4138-ac72-194f1d5d1691",
   "metadata": {
    "tags": []
   },
   "outputs": [
    {
     "data": {
      "text/plain": [
       "count   9689.00000\n",
       "mean       0.46009\n",
       "std        1.19284\n",
       "min        0.00100\n",
       "25%        0.02179\n",
       "50%        0.07211\n",
       "75%        0.27444\n",
       "max        9.97430\n",
       "Name: sales_mil, dtype: float64"
      ]
     },
     "execution_count": 42,
     "metadata": {},
     "output_type": "execute_result"
    }
   ],
   "source": [
    "train_df.sales_mil.describe()"
   ]
  },
  {
   "cell_type": "code",
   "execution_count": 174,
   "id": "18b50d07-4988-4883-abc5-f2f8545e7615",
   "metadata": {
    "tags": []
   },
   "outputs": [
    {
     "data": {
      "text/plain": [
       "default\n",
       "0    9091\n",
       "1     598\n",
       "Name: count, dtype: int64"
      ]
     },
     "execution_count": 174,
     "metadata": {},
     "output_type": "execute_result"
    }
   ],
   "source": [
    "train_df.default.value_counts()"
   ]
  },
  {
   "cell_type": "code",
   "execution_count": 43,
   "id": "726d0f40-5592-437b-a4fd-239577aea288",
   "metadata": {
    "tags": []
   },
   "outputs": [
    {
     "name": "stdout",
     "output_type": "stream",
     "text": [
      "'extra_exp' has 42 NaN values and 580 distinct values.\n",
      "'extra_inc' has 42 NaN values and 783 distinct values.\n",
      "'inventories' has 2 NaN values and 4425 distinct values.\n",
      "'material_exp' has 22 NaN values and 8387 distinct values.\n",
      "'profit_loss_year' has 2 NaN values and 5507 distinct values.\n",
      "'personnel_exp' has 22 NaN values and 6582 distinct values.\n",
      "'intang_assets' has 2 NaN values and 1648 distinct values.\n",
      "'curr_liab' has 2 NaN values and 7120 distinct values.\n",
      "'fixed_assets' has 2 NaN values and 6043 distinct values.\n",
      "'liq_assets' has 2 NaN values and 6006 distinct values.\n",
      "'curr_assets' has 2 NaN values and 8265 distinct values.\n",
      "'share_eq' has 2 NaN values and 8060 distinct values.\n",
      "'subscribed_cap' has 2 NaN values and 401 distinct values.\n",
      "'tang_assets' has 44 NaN values and 5827 distinct values.\n",
      "'total_assets_bs' has 2 NaN values and 9405 distinct values.\n",
      "'d1_sales_mil' has 1506 NaN values and 8003 distinct values.\n",
      "'d1_curr_assets' has 1510 NaN values and 7570 distinct values.\n",
      "'d1_curr_liab' has 1510 NaN values and 7536 distinct values.\n",
      "'d1_inc_bef_tax' has 1506 NaN values and 7706 distinct values.\n",
      "'d1_profit_loss_year' has 1510 NaN values and 7173 distinct values.\n",
      "'d1_fixed_assets' has 1510 NaN values and 6138 distinct values.\n",
      "'d1_inventories' has 1510 NaN values and 4715 distinct values.\n",
      "'d1_personnel_exp' has 1528 NaN values and 6457 distinct values.\n",
      "'d1_total_assets_bs' has 1527 NaN values and 8026 distinct values.\n",
      "'d1_sales_mil_ln' has 1845 NaN values and 6381 distinct values.\n",
      "'age' has 1985 NaN values and 30 distinct values.\n",
      "'age_sq' has 1985 NaN values and 30 distinct values.\n",
      "'new' has 1845 NaN values and 2 distinct values.\n"
     ]
    }
   ],
   "source": [
    "for col in all_vars:\n",
    "    nan_count = train_df[col].isna().sum()\n",
    "    if nan_count > 0:\n",
    "        distinct_values = train_df[col].nunique(dropna=True)\n",
    "        print(f\"'{col}' has {nan_count} NaN values and {distinct_values} distinct values.\")\n"
   ]
  },
  {
   "cell_type": "code",
   "execution_count": 44,
   "id": "d9653a0c-8c7b-4365-8776-babd59f421e2",
   "metadata": {
    "tags": []
   },
   "outputs": [],
   "source": [
    "for col in all_vars:\n",
    "    nan_count = train_df[col].isna().sum()\n",
    "    distinct_values = train_df[col].nunique(dropna=True)\n",
    "    \n",
    "    if nan_count > 0:\n",
    "        if distinct_values > 2:\n",
    "            mean_value = train_df[col].mean()\n",
    "            train_df[col].fillna(mean_value, inplace=True)\n",
    "        else:\n",
    "            mode_value = train_df[col].mode().iloc[0]\n",
    "            train_df[col].fillna(mode_value, inplace=True)"
   ]
  },
  {
   "cell_type": "markdown",
   "id": "ffb8b7e0-3e84-4a75-bbfe-8b80fa202f7b",
   "metadata": {},
   "source": [
    "# Models\n",
    "We created two theoretical OLS models, M1 and M2\n",
    "- M1 - this model contains all the sales variables, firm quality variables, and profit/loss variables to account for basic predictors of whether it survived\n",
    "- M2 - this model contains everything from M1 but also uses balance sheet variables, and basic interaction terms with sales\n",
    "\n",
    "We also created a LASSO model where we used all selected variables to let the algorithms decide which coefficiencts are significant.\n",
    "\n",
    "All models are run using Cross Fold Validation on the training set. The number of folds set is equal to 5.\n",
    "### 1. Logit\n",
    "Below we run the M1 and M2 models"
   ]
  },
  {
   "cell_type": "code",
   "execution_count": 45,
   "id": "156e57eb-3de7-455f-801d-5001e76f288b",
   "metadata": {
    "tags": []
   },
   "outputs": [],
   "source": [
    "M1 = sales_vars + quality_vars + profit_loss_vars\n",
    "M2 = sales_vars + quality_vars + profit_loss_vars + balance_sheet_vars + interactions1\n",
    "lasso_vars = all_vars"
   ]
  },
  {
   "cell_type": "code",
   "execution_count": 46,
   "id": "35a222d5-d774-4995-997f-b06bc40896e1",
   "metadata": {
    "tags": []
   },
   "outputs": [],
   "source": [
    "# Setting number of cross validation folds to 5\n",
    "k = KFold(n_splits=5, shuffle=True, random_state=20240229)\n",
    "logit_model_vars = [M1, M2]\n",
    "C_value_logit = [1e20]"
   ]
  },
  {
   "cell_type": "code",
   "execution_count": 47,
   "id": "50b4c4f8-b58f-4314-9ac2-17c768cad915",
   "metadata": {
    "tags": []
   },
   "outputs": [],
   "source": [
    "logit_models = dict()\n",
    "CV_RMSE_folds = dict()\n",
    "\n",
    "for i, model_vars in enumerate(logit_model_vars):\n",
    "\n",
    "    model_equation = \"default~\" + \"+\".join(model_vars)\n",
    "    y_train, X_train = patsy.dmatrices(model_equation, train_df)\n",
    "\n",
    "    LRCV_brier = LogisticRegressionCV(\n",
    "        Cs=C_value_logit,\n",
    "        cv=k,\n",
    "        refit=True,\n",
    "        scoring=\"neg_brier_score\",\n",
    "        solver=\"newton-cg\",\n",
    "        tol=1e-7,\n",
    "        random_state=20240229,\n",
    "    )\n",
    "\n",
    "    logit_models[\"M\" + str(i + 1)] = LRCV_brier.fit(X_train, y_train)\n",
    "\n",
    "    # Calculate RMSE on test for each fold\n",
    "    CV_RMSE_folds[\"M\" + str(i + 1)] = np.sqrt(\n",
    "        -1 * logit_models[\"M\" + str(i + 1)].scores_[1].ravel()\n",
    "    )"
   ]
  },
  {
   "cell_type": "code",
   "execution_count": 48,
   "id": "7a4cd5b4-589d-419f-ad2f-ea154fae080f",
   "metadata": {
    "tags": []
   },
   "outputs": [
    {
     "data": {
      "text/html": [
       "<div>\n",
       "<style scoped>\n",
       "    .dataframe tbody tr th:only-of-type {\n",
       "        vertical-align: middle;\n",
       "    }\n",
       "\n",
       "    .dataframe tbody tr th {\n",
       "        vertical-align: top;\n",
       "    }\n",
       "\n",
       "    .dataframe thead th {\n",
       "        text-align: right;\n",
       "    }\n",
       "</style>\n",
       "<table border=\"1\" class=\"dataframe\">\n",
       "  <thead>\n",
       "    <tr style=\"text-align: right;\">\n",
       "      <th></th>\n",
       "      <th>M1</th>\n",
       "      <th>M2</th>\n",
       "    </tr>\n",
       "  </thead>\n",
       "  <tbody>\n",
       "    <tr>\n",
       "      <th>0</th>\n",
       "      <td>0.23907</td>\n",
       "      <td>0.36949</td>\n",
       "    </tr>\n",
       "    <tr>\n",
       "      <th>1</th>\n",
       "      <td>0.23650</td>\n",
       "      <td>0.36980</td>\n",
       "    </tr>\n",
       "    <tr>\n",
       "      <th>2</th>\n",
       "      <td>0.24050</td>\n",
       "      <td>0.37230</td>\n",
       "    </tr>\n",
       "    <tr>\n",
       "      <th>3</th>\n",
       "      <td>0.22663</td>\n",
       "      <td>0.23256</td>\n",
       "    </tr>\n",
       "    <tr>\n",
       "      <th>4</th>\n",
       "      <td>0.24034</td>\n",
       "      <td>0.37032</td>\n",
       "    </tr>\n",
       "  </tbody>\n",
       "</table>\n",
       "</div>"
      ],
      "text/plain": [
       "       M1      M2\n",
       "0 0.23907 0.36949\n",
       "1 0.23650 0.36980\n",
       "2 0.24050 0.37230\n",
       "3 0.22663 0.23256\n",
       "4 0.24034 0.37032"
      ]
     },
     "execution_count": 48,
     "metadata": {},
     "output_type": "execute_result"
    }
   ],
   "source": [
    "# Showing RMSE results amongst the folds\n",
    "pd.DataFrame(CV_RMSE_folds)"
   ]
  },
  {
   "cell_type": "markdown",
   "id": "0c75735d-0b28-4e4d-a8ae-4f57a79cb5a9",
   "metadata": {},
   "source": [
    "### 2. Logit + Lasso \n",
    "Below we run the LASSO model"
   ]
  },
  {
   "cell_type": "code",
   "execution_count": 49,
   "id": "7d99d661-7059-4447-9527-3424d542aa05",
   "metadata": {
    "tags": []
   },
   "outputs": [],
   "source": [
    "model_equation = \"default~\" + \"+\".join(lasso_vars)\n",
    "y_train, X_train = patsy.dmatrices(model_equation, train_df)"
   ]
  },
  {
   "cell_type": "code",
   "execution_count": 50,
   "id": "e5a31089-a3ac-4f81-8fc0-4de5b8b0d012",
   "metadata": {
    "tags": []
   },
   "outputs": [],
   "source": [
    "normalized_logitvars = pd.DataFrame(\n",
    "    StandardScaler().fit_transform(X_train),\n",
    "    columns=X_train.design_info.column_names,\n",
    ")"
   ]
  },
  {
   "cell_type": "code",
   "execution_count": 51,
   "id": "f95dad0e-d8a1-4d78-b0c6-5d6ba913a8f9",
   "metadata": {
    "tags": []
   },
   "outputs": [],
   "source": [
    "lambdas = list(10 ** np.arange(-1, -4.01, -1 / 3))\n",
    "n_obs = normalized_logitvars.shape[0] * 4 / 5\n",
    "\n",
    "# Increase the values of lambdas to make the penalty more strict\n",
    "lambdas = [l * 0.5 for l in lambdas]  # Example: Multiply lambdas by 0.5\n",
    "\n",
    "C_values = [\n",
    "    1 / (l * n_obs) for l in lambdas\n",
    "]  # Cs are the inverse of regularization strength\n",
    "\n",
    "logLasso_brier = LogisticRegressionCV(\n",
    "    Cs=C_values,\n",
    "    penalty=\"l1\",\n",
    "    cv=k,\n",
    "    refit=True,\n",
    "    scoring=\"neg_brier_score\",\n",
    "    solver=\"liblinear\",\n",
    "    random_state=20240229,\n",
    ")\n",
    "\n",
    "logit_models[\"LASSO\"] = logLasso_brier.fit(normalized_logitvars, y_train)\n"
   ]
  },
  {
   "cell_type": "code",
   "execution_count": 52,
   "id": "a484179e-16c7-4755-901e-512f7d3c6fa8",
   "metadata": {
    "tags": []
   },
   "outputs": [],
   "source": [
    "logLasso_brier = LogisticRegressionCV(\n",
    "    Cs=C_values,\n",
    "    penalty=\"l1\",\n",
    "    cv=k,\n",
    "    refit=True,\n",
    "    scoring=\"neg_brier_score\",\n",
    "    solver=\"liblinear\",\n",
    "    random_state=20240229,\n",
    ")\n",
    "\n",
    "logit_models[\"LASSO\"] = logLasso_brier.fit(normalized_logitvars, y_train)"
   ]
  },
  {
   "cell_type": "code",
   "execution_count": 53,
   "id": "5abdf026-04a6-4b03-911f-f1e79cd60f3a",
   "metadata": {
    "tags": []
   },
   "outputs": [
    {
     "data": {
      "text/html": [
       "<div>\n",
       "<style scoped>\n",
       "    .dataframe tbody tr th:only-of-type {\n",
       "        vertical-align: middle;\n",
       "    }\n",
       "\n",
       "    .dataframe tbody tr th {\n",
       "        vertical-align: top;\n",
       "    }\n",
       "\n",
       "    .dataframe thead th {\n",
       "        text-align: right;\n",
       "    }\n",
       "</style>\n",
       "<table border=\"1\" class=\"dataframe\">\n",
       "  <thead>\n",
       "    <tr style=\"text-align: right;\">\n",
       "      <th></th>\n",
       "      <th>lambdas</th>\n",
       "      <th>C_values</th>\n",
       "      <th>mean_cv_score</th>\n",
       "    </tr>\n",
       "  </thead>\n",
       "  <tbody>\n",
       "    <tr>\n",
       "      <th>0</th>\n",
       "      <td>0.05000</td>\n",
       "      <td>0.00258</td>\n",
       "      <td>0.24579</td>\n",
       "    </tr>\n",
       "    <tr>\n",
       "      <th>1</th>\n",
       "      <td>0.02321</td>\n",
       "      <td>0.00556</td>\n",
       "      <td>0.23795</td>\n",
       "    </tr>\n",
       "    <tr>\n",
       "      <th>2</th>\n",
       "      <td>0.01077</td>\n",
       "      <td>0.01198</td>\n",
       "      <td>0.23402</td>\n",
       "    </tr>\n",
       "    <tr>\n",
       "      <th>3</th>\n",
       "      <td>0.00500</td>\n",
       "      <td>0.02580</td>\n",
       "      <td>0.23266</td>\n",
       "    </tr>\n",
       "    <tr>\n",
       "      <th>4</th>\n",
       "      <td>0.00232</td>\n",
       "      <td>0.05559</td>\n",
       "      <td>0.23224</td>\n",
       "    </tr>\n",
       "    <tr>\n",
       "      <th>5</th>\n",
       "      <td>0.00108</td>\n",
       "      <td>0.11976</td>\n",
       "      <td>0.23188</td>\n",
       "    </tr>\n",
       "    <tr>\n",
       "      <th>6</th>\n",
       "      <td>0.00050</td>\n",
       "      <td>0.25802</td>\n",
       "      <td>0.23185</td>\n",
       "    </tr>\n",
       "    <tr>\n",
       "      <th>7</th>\n",
       "      <td>0.00023</td>\n",
       "      <td>0.55590</td>\n",
       "      <td>0.23200</td>\n",
       "    </tr>\n",
       "    <tr>\n",
       "      <th>8</th>\n",
       "      <td>0.00011</td>\n",
       "      <td>1.19764</td>\n",
       "      <td>0.23206</td>\n",
       "    </tr>\n",
       "    <tr>\n",
       "      <th>9</th>\n",
       "      <td>0.00005</td>\n",
       "      <td>2.58025</td>\n",
       "      <td>0.23214</td>\n",
       "    </tr>\n",
       "  </tbody>\n",
       "</table>\n",
       "</div>"
      ],
      "text/plain": [
       "   lambdas  C_values  mean_cv_score\n",
       "0  0.05000   0.00258        0.24579\n",
       "1  0.02321   0.00556        0.23795\n",
       "2  0.01077   0.01198        0.23402\n",
       "3  0.00500   0.02580        0.23266\n",
       "4  0.00232   0.05559        0.23224\n",
       "5  0.00108   0.11976        0.23188\n",
       "6  0.00050   0.25802        0.23185\n",
       "7  0.00023   0.55590        0.23200\n",
       "8  0.00011   1.19764        0.23206\n",
       "9  0.00005   2.58025        0.23214"
      ]
     },
     "execution_count": 53,
     "metadata": {},
     "output_type": "execute_result"
    }
   ],
   "source": [
    "cv_summary_lasso = cv_summary(lambdas, C_values, logit_models[\"LASSO\"])\n",
    "cv_summary_lasso[\"mean_cv_score\"] = np.sqrt(cv_summary_lasso[\"mean_cv_score\"] * -1)\n",
    "cv_summary_lasso"
   ]
  },
  {
   "cell_type": "code",
   "execution_count": 54,
   "id": "654924eb-89bd-47a5-bd3f-45987c16b601",
   "metadata": {
    "tags": []
   },
   "outputs": [
    {
     "data": {
      "text/plain": [
       "6"
      ]
     },
     "execution_count": 54,
     "metadata": {},
     "output_type": "execute_result"
    }
   ],
   "source": [
    "best_lambda_i = cv_summary_lasso[\"mean_cv_score\"].idxmin()\n",
    "best_lambda_i"
   ]
  },
  {
   "cell_type": "code",
   "execution_count": 55,
   "id": "cfa1f292-c605-4a17-bf18-cc2803de9750",
   "metadata": {
    "tags": []
   },
   "outputs": [
    {
     "data": {
      "text/plain": [
       "array([0.23616951, 0.23022301, 0.23585529, 0.2236123 , 0.23317374])"
      ]
     },
     "execution_count": 55,
     "metadata": {},
     "output_type": "execute_result"
    }
   ],
   "source": [
    "CV_RMSE_folds[\"LASSO\"] = np.sqrt(-1 * logit_models[\"LASSO\"].scores_[1][:, best_lambda_i])\n",
    "CV_RMSE_folds[\"LASSO\"]"
   ]
  },
  {
   "cell_type": "markdown",
   "id": "175d8f62-f80d-4bae-aed6-663b881a9a76",
   "metadata": {},
   "source": [
    "#### AUC, Calibration Curve, Confusion Matrix, ROC\n",
    "\n",
    "AUC folds: <br>\n",
    "    1. Simple Logits<br>"
   ]
  },
  {
   "cell_type": "code",
   "execution_count": 56,
   "id": "8e0667b1-d65f-463a-9e62-5d8f13cfacc9",
   "metadata": {
    "tags": []
   },
   "outputs": [],
   "source": [
    "CV_AUC_folds = dict()\n",
    "for i, model_vars in enumerate(logit_model_vars):\n",
    "\n",
    "    model_equation = \"default~\" + \"+\".join(model_vars)\n",
    "    y_train, X_train = patsy.dmatrices(model_equation, train_df)\n",
    "\n",
    "    LRCV_auc = LogisticRegressionCV(\n",
    "        Cs=C_value_logit,\n",
    "        cv=k,\n",
    "        refit=True,\n",
    "        scoring=\"roc_auc\",\n",
    "        solver=\"newton-cg\",\n",
    "        tol=1e-7,\n",
    "        random_state=20240229,\n",
    "    )\n",
    "\n",
    "    logit_models[\"M\" + str(i + 1)] = LRCV_auc.fit(X_train, y_train)\n",
    "\n",
    "    # Calculate AUC on test for each fold\n",
    "    CV_AUC_folds[\"M\" + str(i + 1)] = logit_models[\"M\" + str(i + 1)].scores_[1].ravel()"
   ]
  },
  {
   "cell_type": "markdown",
   "id": "77e8f881-806d-4fc4-b584-a3ae39a35edf",
   "metadata": {},
   "source": [
    " 2. Logit + Lasso"
   ]
  },
  {
   "cell_type": "code",
   "execution_count": 57,
   "id": "612ec0c9-9f5a-4d4a-9df4-f18fcb55dbc5",
   "metadata": {
    "tags": []
   },
   "outputs": [],
   "source": [
    "logLasso_auc = LogisticRegressionCV(\n",
    "    Cs=C_values,\n",
    "    penalty=\"l1\",\n",
    "    cv=k,\n",
    "    refit=True,\n",
    "    scoring=\"roc_auc\",\n",
    "    solver=\"liblinear\",\n",
    "    random_state=20240229,\n",
    ")\n",
    "logLasso_auc_fitted = logLasso_auc.fit(normalized_logitvars, y_train)\n",
    "\n",
    "CV_AUC_folds[\"LASSO\"] = logLasso_auc_fitted.scores_[1][:, cv_summary_lasso[\"mean_cv_score\"].idxmin()]"
   ]
  },
  {
   "cell_type": "code",
   "execution_count": 58,
   "id": "9e87e4e8-8d0b-4899-a886-959013997bdb",
   "metadata": {
    "tags": []
   },
   "outputs": [],
   "source": [
    "model_fits = pd.DataFrame(logit_models, index=[\"Model fit\"]).T\n",
    "\n",
    "summary = (model_fits[\"Model fit\"].apply(lambda x: x.n_features_in_).to_frame(name=\"Number of Coefficients\"))\n",
    "\n",
    "summary.loc[\"LASSO\", \"Number of Coefficients\"] = len([i for i in model_fits.loc[\"LASSO\"].values[0].coef_[0] if i != 0])\n",
    "\n",
    "summary[\"CV RMSE\"] = pd.DataFrame(CV_RMSE_folds).T.mean(axis=1)\n",
    "summary[\"CV AUC\"] = pd.DataFrame(CV_AUC_folds).T.mean(axis=1)"
   ]
  },
  {
   "cell_type": "code",
   "execution_count": 59,
   "id": "b5debded-6fbe-4470-a0ff-1c2df491b442",
   "metadata": {
    "tags": []
   },
   "outputs": [
    {
     "data": {
      "text/html": [
       "<style>#sk-container-id-1 {color: black;}#sk-container-id-1 pre{padding: 0;}#sk-container-id-1 div.sk-toggleable {background-color: white;}#sk-container-id-1 label.sk-toggleable__label {cursor: pointer;display: block;width: 100%;margin-bottom: 0;padding: 0.3em;box-sizing: border-box;text-align: center;}#sk-container-id-1 label.sk-toggleable__label-arrow:before {content: \"▸\";float: left;margin-right: 0.25em;color: #696969;}#sk-container-id-1 label.sk-toggleable__label-arrow:hover:before {color: black;}#sk-container-id-1 div.sk-estimator:hover label.sk-toggleable__label-arrow:before {color: black;}#sk-container-id-1 div.sk-toggleable__content {max-height: 0;max-width: 0;overflow: hidden;text-align: left;background-color: #f0f8ff;}#sk-container-id-1 div.sk-toggleable__content pre {margin: 0.2em;color: black;border-radius: 0.25em;background-color: #f0f8ff;}#sk-container-id-1 input.sk-toggleable__control:checked~div.sk-toggleable__content {max-height: 200px;max-width: 100%;overflow: auto;}#sk-container-id-1 input.sk-toggleable__control:checked~label.sk-toggleable__label-arrow:before {content: \"▾\";}#sk-container-id-1 div.sk-estimator input.sk-toggleable__control:checked~label.sk-toggleable__label {background-color: #d4ebff;}#sk-container-id-1 div.sk-label input.sk-toggleable__control:checked~label.sk-toggleable__label {background-color: #d4ebff;}#sk-container-id-1 input.sk-hidden--visually {border: 0;clip: rect(1px 1px 1px 1px);clip: rect(1px, 1px, 1px, 1px);height: 1px;margin: -1px;overflow: hidden;padding: 0;position: absolute;width: 1px;}#sk-container-id-1 div.sk-estimator {font-family: monospace;background-color: #f0f8ff;border: 1px dotted black;border-radius: 0.25em;box-sizing: border-box;margin-bottom: 0.5em;}#sk-container-id-1 div.sk-estimator:hover {background-color: #d4ebff;}#sk-container-id-1 div.sk-parallel-item::after {content: \"\";width: 100%;border-bottom: 1px solid gray;flex-grow: 1;}#sk-container-id-1 div.sk-label:hover label.sk-toggleable__label {background-color: #d4ebff;}#sk-container-id-1 div.sk-serial::before {content: \"\";position: absolute;border-left: 1px solid gray;box-sizing: border-box;top: 0;bottom: 0;left: 50%;z-index: 0;}#sk-container-id-1 div.sk-serial {display: flex;flex-direction: column;align-items: center;background-color: white;padding-right: 0.2em;padding-left: 0.2em;position: relative;}#sk-container-id-1 div.sk-item {position: relative;z-index: 1;}#sk-container-id-1 div.sk-parallel {display: flex;align-items: stretch;justify-content: center;background-color: white;position: relative;}#sk-container-id-1 div.sk-item::before, #sk-container-id-1 div.sk-parallel-item::before {content: \"\";position: absolute;border-left: 1px solid gray;box-sizing: border-box;top: 0;bottom: 0;left: 50%;z-index: -1;}#sk-container-id-1 div.sk-parallel-item {display: flex;flex-direction: column;z-index: 1;position: relative;background-color: white;}#sk-container-id-1 div.sk-parallel-item:first-child::after {align-self: flex-end;width: 50%;}#sk-container-id-1 div.sk-parallel-item:last-child::after {align-self: flex-start;width: 50%;}#sk-container-id-1 div.sk-parallel-item:only-child::after {width: 0;}#sk-container-id-1 div.sk-dashed-wrapped {border: 1px dashed gray;margin: 0 0.4em 0.5em 0.4em;box-sizing: border-box;padding-bottom: 0.4em;background-color: white;}#sk-container-id-1 div.sk-label label {font-family: monospace;font-weight: bold;display: inline-block;line-height: 1.2em;}#sk-container-id-1 div.sk-label-container {text-align: center;}#sk-container-id-1 div.sk-container {/* jupyter's `normalize.less` sets `[hidden] { display: none; }` but bootstrap.min.css set `[hidden] { display: none !important; }` so we also need the `!important` here to be able to override the default hidden behavior on the sphinx rendered scikit-learn.org. See: https://github.com/scikit-learn/scikit-learn/issues/21755 */display: inline-block !important;position: relative;}#sk-container-id-1 div.sk-text-repr-fallback {display: none;}</style><div id=\"sk-container-id-1\" class=\"sk-top-container\"><div class=\"sk-text-repr-fallback\"><pre>LogisticRegressionCV(Cs=[0.0025802456393848694, 0.00555897071429426,\n",
       "                         0.01197643934774687, 0.02580245639384868,\n",
       "                         0.05558970714294257, 0.11976439347746858,\n",
       "                         0.25802456393848666, 0.5558970714294257,\n",
       "                         1.197643934774686, 2.5802456393848643],\n",
       "                     cv=KFold(n_splits=5, random_state=20240229, shuffle=True),\n",
       "                     penalty=&#x27;l1&#x27;, random_state=20240229,\n",
       "                     scoring=&#x27;neg_brier_score&#x27;, solver=&#x27;liblinear&#x27;)</pre><b>In a Jupyter environment, please rerun this cell to show the HTML representation or trust the notebook. <br />On GitHub, the HTML representation is unable to render, please try loading this page with nbviewer.org.</b></div><div class=\"sk-container\" hidden><div class=\"sk-item\"><div class=\"sk-estimator sk-toggleable\"><input class=\"sk-toggleable__control sk-hidden--visually\" id=\"sk-estimator-id-1\" type=\"checkbox\" checked><label for=\"sk-estimator-id-1\" class=\"sk-toggleable__label sk-toggleable__label-arrow\">LogisticRegressionCV</label><div class=\"sk-toggleable__content\"><pre>LogisticRegressionCV(Cs=[0.0025802456393848694, 0.00555897071429426,\n",
       "                         0.01197643934774687, 0.02580245639384868,\n",
       "                         0.05558970714294257, 0.11976439347746858,\n",
       "                         0.25802456393848666, 0.5558970714294257,\n",
       "                         1.197643934774686, 2.5802456393848643],\n",
       "                     cv=KFold(n_splits=5, random_state=20240229, shuffle=True),\n",
       "                     penalty=&#x27;l1&#x27;, random_state=20240229,\n",
       "                     scoring=&#x27;neg_brier_score&#x27;, solver=&#x27;liblinear&#x27;)</pre></div></div></div></div></div>"
      ],
      "text/plain": [
       "LogisticRegressionCV(Cs=[0.0025802456393848694, 0.00555897071429426,\n",
       "                         0.01197643934774687, 0.02580245639384868,\n",
       "                         0.05558970714294257, 0.11976439347746858,\n",
       "                         0.25802456393848666, 0.5558970714294257,\n",
       "                         1.197643934774686, 2.5802456393848643],\n",
       "                     cv=KFold(n_splits=5, random_state=20240229, shuffle=True),\n",
       "                     penalty='l1', random_state=20240229,\n",
       "                     scoring='neg_brier_score', solver='liblinear')"
      ]
     },
     "execution_count": 59,
     "metadata": {},
     "output_type": "execute_result"
    }
   ],
   "source": [
    "logit_models[\"LASSO\"]"
   ]
  },
  {
   "cell_type": "code",
   "execution_count": 60,
   "id": "379fbd12-3e52-478d-b8b6-4caa1e03ad23",
   "metadata": {
    "tags": []
   },
   "outputs": [
    {
     "data": {
      "text/html": [
       "<div>\n",
       "<style scoped>\n",
       "    .dataframe tbody tr th:only-of-type {\n",
       "        vertical-align: middle;\n",
       "    }\n",
       "\n",
       "    .dataframe tbody tr th {\n",
       "        vertical-align: top;\n",
       "    }\n",
       "\n",
       "    .dataframe thead th {\n",
       "        text-align: right;\n",
       "    }\n",
       "</style>\n",
       "<table border=\"1\" class=\"dataframe\">\n",
       "  <thead>\n",
       "    <tr style=\"text-align: right;\">\n",
       "      <th></th>\n",
       "      <th>Number of Coefficients</th>\n",
       "      <th>CV RMSE</th>\n",
       "      <th>CV AUC</th>\n",
       "    </tr>\n",
       "  </thead>\n",
       "  <tbody>\n",
       "    <tr>\n",
       "      <th>M1</th>\n",
       "      <td>16</td>\n",
       "      <td>0.23661</td>\n",
       "      <td>0.70373</td>\n",
       "    </tr>\n",
       "    <tr>\n",
       "      <th>M2</th>\n",
       "      <td>37</td>\n",
       "      <td>0.34289</td>\n",
       "      <td>0.66335</td>\n",
       "    </tr>\n",
       "    <tr>\n",
       "      <th>LASSO</th>\n",
       "      <td>38</td>\n",
       "      <td>0.23181</td>\n",
       "      <td>0.75826</td>\n",
       "    </tr>\n",
       "  </tbody>\n",
       "</table>\n",
       "</div>"
      ],
      "text/plain": [
       "       Number of Coefficients  CV RMSE  CV AUC\n",
       "M1                         16  0.23661 0.70373\n",
       "M2                         37  0.34289 0.66335\n",
       "LASSO                      38  0.23181 0.75826"
      ]
     },
     "execution_count": 60,
     "metadata": {},
     "output_type": "execute_result"
    }
   ],
   "source": [
    "summary"
   ]
  },
  {
   "cell_type": "markdown",
   "id": "96f172d3-7b19-4101-9d53-5271908de392",
   "metadata": {},
   "source": [
    "From the results table above we can see that the LASSO shortlisted 42 coefficients to select from the total amount of variables and interactions we fed it. Also noted is that the LASSO has the best AUC score amongst the three models along with the best RMSE \n",
    "score\n",
    "\n",
    "Below we view the shortlisted LASSO variables and coefficients and assign those to a new variable to use for running both a Random Forest and GBM model."
   ]
  },
  {
   "cell_type": "code",
   "execution_count": 61,
   "id": "39feb1b2-bdf8-4eea-a523-cddefd7421b7",
   "metadata": {
    "tags": []
   },
   "outputs": [
    {
     "name": "stdout",
     "output_type": "stream",
     "text": [
      "sales_mil: 0.35714931199163347 , 1\n",
      "sales_ln: 0.05440074134392476 , 2\n",
      "sales_mil_ln: -0.035023360453565806 , 3\n",
      "sales_mil_ln_sq: 0.050189415669354885 , 4\n",
      "extra_exp: 0.04218334882889894 , 5\n",
      "extra_inc: -0.04432544602831575 , 6\n",
      "extra_profit_loss: 0.1331622909856872 , 7\n",
      "inc_bef_tax: 0.040507375579072365 , 8\n",
      "inventories: -0.07106936561754863 , 9\n",
      "material_exp: 0.004230680210382079 , 10\n",
      "profit_loss_year: -0.060861005984692365 , 11\n",
      "personnel_exp: 0.05248130034097697 , 12\n",
      "balsheet_flag: 0.04197006301903601 , 13\n",
      "balsheet_length: -0.13682360508446245 , 14\n",
      "balsheet_notfullyear: -0.04634170638898224 , 15\n",
      "intang_assets: -0.24079561774523903 , 16\n",
      "curr_liab: -0.174844135788512 , 17\n",
      "fixed_assets: 0.17012608977594315 , 18\n",
      "liq_assets: 0.12603469764457165 , 19\n",
      "curr_assets: -0.2969413903858403 , 20\n",
      "share_eq: 0.09238416466471307 , 21\n",
      "subscribed_cap: -0.41153194335519216 , 22\n",
      "tang_assets: -0.11696037025546345 , 23\n",
      "total_assets_bs: -0.2027891576578842 , 24\n",
      "d1_sales_mil: -0.26070866354514877 , 25\n",
      "d1_curr_assets: -0.061489272672151686 , 26\n",
      "d1_curr_liab: -0.1155952014412621 , 27\n",
      "d1_inc_bef_tax: 0.10787892230512038 , 28\n",
      "d1_profit_loss_year: -0.043327749537988146 , 29\n",
      "d1_fixed_assets: -0.08950148523689694 , 30\n",
      "d1_inventories: -0.23635631027003745 , 31\n",
      "d1_personnel_exp: -0.04006489207665873 , 32\n",
      "d1_total_assets_bs: 0.09152957687120336 , 33\n",
      "d1_sales_mil_ln: -0.0628312547327006 , 34\n",
      "d1_sales_mil_ln_mod: -0.02824534957480424 , 35\n",
      "d1_sales_mil_ln_mod_sq: 0.2758730557810365 , 36\n",
      "flag_low_d1_sales_mil_ln: -0.0033930085612406597 , 37\n",
      "flag_high_d1_sales_mil_ln: -0.21166290625088827 , 38\n"
     ]
    }
   ],
   "source": [
    "# coefficients = logit_models[\"LASSO\"].coef_[(logit_models[\"LASSO\"].coef_ <= -0.01) | (logit_models[\"LASSO\"].coef_ >= 0.01)]\n",
    "\n",
    "coefficients = logit_models[\"LASSO\"].coef_[logit_models[\"LASSO\"].coef_ != 0]\n",
    "shortlist_vars = []\n",
    "count = 0\n",
    "# Print the coefficients along with their corresponding feature names\n",
    "for feature, coefficient in zip(lasso_vars, coefficients):\n",
    "    count += 1\n",
    "    shortlist_vars.append(feature)\n",
    "    print(f\"{feature}: {coefficient} , {count}\")"
   ]
  },
  {
   "cell_type": "markdown",
   "id": "a94a3ba1-b32e-4d33-8c0e-0d38a3f20739",
   "metadata": {},
   "source": [
    "### Take best model and estimate RMSE on holdout\n",
    "We then plot the M1 model below to show the calibration and estimate the RMSE on the holdout set."
   ]
  },
  {
   "cell_type": "code",
   "execution_count": 62,
   "id": "776e9910-47bb-497b-b4d5-e24d72724957",
   "metadata": {
    "tags": []
   },
   "outputs": [],
   "source": [
    "best_model = logit_models[\"M1\"]\n",
    "model_equation = \"default~\" + \"+\".join(M1)\n",
    "_, X_holdout = patsy.dmatrices(model_equation, holdout_df)\n",
    "holdout_df[\"best_logit_pred_proba\"] = best_model.predict_proba(X_holdout)[:, 1]"
   ]
  },
  {
   "cell_type": "code",
   "execution_count": 63,
   "id": "a29ecadc-7d39-4a90-9ce7-bdc04ccb7760",
   "metadata": {
    "tags": []
   },
   "outputs": [
    {
     "data": {
      "image/png": "[encoded data removed]",
      "text/plain": [
       "<Figure size 640x480 with 1 Axes>"
      ]
     },
     "metadata": {
      "image/png": {
       "height": 480,
       "width": 640
      }
     },
     "output_type": "display_data"
    },
    {
     "data": {
      "text/plain": [
       "<Figure Size: (640 x 480)>"
      ]
     },
     "execution_count": 63,
     "metadata": {},
     "output_type": "execute_result"
    }
   ],
   "source": [
    "create_calibration_plot(\n",
    "    holdout_df,\n",
    "    'Test',\n",
    "    prob_var=\"best_logit_pred_proba\",\n",
    "    actual_var=\"default\",\n",
    "    y_lab=\"Actual event probability\",\n",
    "    n_bins=10,\n",
    "    breaks=None,\n",
    ")"
   ]
  },
  {
   "cell_type": "markdown",
   "id": "6a142e7a-2a46-491b-adce-c0c27094790e",
   "metadata": {},
   "source": [
    "Now we plot the M2 model"
   ]
  },
  {
   "cell_type": "code",
   "execution_count": 64,
   "id": "7bde1b81-65aa-4055-8a68-31beb86e0201",
   "metadata": {
    "tags": []
   },
   "outputs": [],
   "source": [
    "best_model = logit_models[\"M2\"]\n",
    "model_equation = \"default~\" + \"+\".join(M2)\n",
    "_, X_holdout = patsy.dmatrices(model_equation, holdout_df)\n",
    "holdout_df[\"best_logit_pred_proba\"] = best_model.predict_proba(X_holdout)[:, 1]"
   ]
  },
  {
   "cell_type": "code",
   "execution_count": 65,
   "id": "7be81214-55b9-4751-9247-02f39b65f601",
   "metadata": {
    "tags": []
   },
   "outputs": [
    {
     "data": {
      "image/png": "[encoded data removed]",
      "text/plain": [
       "<Figure size 640x480 with 1 Axes>"
      ]
     },
     "metadata": {
      "image/png": {
       "height": 480,
       "width": 640
      }
     },
     "output_type": "display_data"
    },
    {
     "data": {
      "text/plain": [
       "<Figure Size: (640 x 480)>"
      ]
     },
     "execution_count": 65,
     "metadata": {},
     "output_type": "execute_result"
    }
   ],
   "source": [
    "create_calibration_plot(\n",
    "    holdout_df,\n",
    "    'Test',\n",
    "    prob_var=\"best_logit_pred_proba\",\n",
    "    actual_var=\"default\",\n",
    "    y_lab=\"Actual event probability\",\n",
    "    n_bins=10,\n",
    "    breaks=None,\n",
    ")"
   ]
  },
  {
   "cell_type": "markdown",
   "id": "8eb6c328-be2d-4a9e-afe2-656039b6de9a",
   "metadata": {},
   "source": [
    "We set the expected loss formula with the following parameters: loss(FN) = 15, loss(FP) = 3 on the holdout set for calculated expected loss"
   ]
  },
  {
   "cell_type": "code",
   "execution_count": 66,
   "id": "5d06105c-6e4b-43da-92d0-b6c64a6729cc",
   "metadata": {
    "tags": []
   },
   "outputs": [],
   "source": [
    "FP = 3\n",
    "FN = 15\n",
    "cost = FN / FP\n",
    "prevelance = y_train.sum() / len(y_train)"
   ]
  },
  {
   "cell_type": "code",
   "execution_count": 67,
   "id": "55b2f2b7-8b98-4407-9442-d7f7636a88eb",
   "metadata": {
    "tags": []
   },
   "outputs": [],
   "source": [
    "best_thresholds_cv = dict()\n",
    "expected_loss_cv = dict()\n",
    "fold5_threshold = dict()\n",
    "fold5_expected_loss = dict()\n",
    "fold5_all_coords = dict()\n",
    "\n",
    "for i, model_name in enumerate(logit_models):\n",
    "    best_thresholds = []\n",
    "    expected_loss = []\n",
    "\n",
    "    if model_name != \"LASSO\":\n",
    "        _, X = patsy.dmatrices(\"default ~\" + \"+\".join(logit_model_vars[i]), train_df)\n",
    "        X = pd.DataFrame(X)\n",
    "        c_index = 0\n",
    "    else:\n",
    "        X = normalized_logitvars\n",
    "        c_index = best_lambda_i\n",
    "    fold = 0\n",
    "    for train_index, test_index in k.split(X):\n",
    "        X_fold = X.iloc[test_index, :]\n",
    "        y_fold = train_df[\"default\"].iloc[test_index]\n",
    "        pred_fold = generate_fold_prediction(\n",
    "            logit_models[model_name], X_fold, fold, c_index\n",
    "        )\n",
    "        false_pos_rate, true_pos_rate, thresholds = roc_curve(y_fold, pred_fold)\n",
    "        optimal_threshold = sorted(\n",
    "            list(\n",
    "                zip(\n",
    "                    np.abs(\n",
    "                        true_pos_rate\n",
    "                        + (1 - prevelance) / (cost * prevelance) * (1 - false_pos_rate)\n",
    "                    ),\n",
    "                    thresholds,\n",
    "                )\n",
    "            ),\n",
    "            key=lambda i: i[0],\n",
    "            reverse=True,\n",
    "        )[0][1]\n",
    "        best_thresholds.append(optimal_threshold)\n",
    "        threshold_prediction = np.where(pred_fold < optimal_threshold, 0, 1)\n",
    "        tn, fp, fn, tp = confusion_matrix(\n",
    "            y_fold, threshold_prediction, labels=[0, 1]\n",
    "        ).ravel()\n",
    "        curr_exp_loss = (fp * FP + fn * FN) / len(y_fold)\n",
    "        expected_loss.append(curr_exp_loss)\n",
    "        fold = fold + 1\n",
    "\n",
    "    best_thresholds_cv[model_name] = np.mean(best_thresholds)\n",
    "    expected_loss_cv[model_name] = np.mean(expected_loss)\n",
    "\n",
    "    # for fold #5\n",
    "    fold5_threshold[model_name] = optimal_threshold\n",
    "    fold5_expected_loss[model_name] = curr_exp_loss\n",
    "\n",
    "    all_coords = pd.DataFrame(\n",
    "        {\n",
    "            \"false_pos\": false_pos_rate * sum(y_fold == 0),\n",
    "            \"true_pos\": true_pos_rate * sum(y_fold == 1),\n",
    "            \"false_neg\": sum(y_fold == 1) - true_pos_rate * sum(y_fold == 1),\n",
    "            \"true_neg\": sum(y_fold == 0) - false_pos_rate * sum(y_fold == 0),\n",
    "            \"pos\": sum(y_fold == 1),\n",
    "            \"neg\": sum(y_fold == 0),\n",
    "            \"n\": len(y_fold),\n",
    "            \"thresholds\": thresholds,\n",
    "        }\n",
    "    )\n",
    "\n",
    "    fold5_all_coords[model_name] = all_coords"
   ]
  },
  {
   "cell_type": "code",
   "execution_count": 68,
   "id": "0689891b-a9be-4db5-8fcc-fecae214ebfe",
   "metadata": {
    "tags": []
   },
   "outputs": [],
   "source": [
    "summary_with_lossfnc = pd.DataFrame(\n",
    "    best_thresholds_cv.items(), columns=[\"Model\", \"Avg of optimal thresholds\"]\n",
    ")\n",
    "summary_with_lossfnc[\"Threshold for Fold5\"] = fold5_threshold.values()\n",
    "summary_with_lossfnc[\"Avg expected loss\"] = expected_loss_cv.values()\n",
    "summary_with_lossfnc[\"Expected loss for Fold5\"] = fold5_expected_loss.values()"
   ]
  },
  {
   "cell_type": "code",
   "execution_count": 69,
   "id": "6d5401b3-eb8b-4ddd-8607-fa711ef70cb9",
   "metadata": {
    "tags": []
   },
   "outputs": [
    {
     "data": {
      "text/html": [
       "<div>\n",
       "<style scoped>\n",
       "    .dataframe tbody tr th:only-of-type {\n",
       "        vertical-align: middle;\n",
       "    }\n",
       "\n",
       "    .dataframe tbody tr th {\n",
       "        vertical-align: top;\n",
       "    }\n",
       "\n",
       "    .dataframe thead th {\n",
       "        text-align: right;\n",
       "    }\n",
       "</style>\n",
       "<table border=\"1\" class=\"dataframe\">\n",
       "  <thead>\n",
       "    <tr style=\"text-align: right;\">\n",
       "      <th></th>\n",
       "      <th>Model</th>\n",
       "      <th>Avg of optimal thresholds</th>\n",
       "      <th>Threshold for Fold5</th>\n",
       "      <th>Avg expected loss</th>\n",
       "      <th>Expected loss for Fold5</th>\n",
       "    </tr>\n",
       "  </thead>\n",
       "  <tbody>\n",
       "    <tr>\n",
       "      <th>0</th>\n",
       "      <td>M1</td>\n",
       "      <td>0.11251</td>\n",
       "      <td>0.13466</td>\n",
       "      <td>0.85303</td>\n",
       "      <td>0.90139</td>\n",
       "    </tr>\n",
       "    <tr>\n",
       "      <th>1</th>\n",
       "      <td>M2</td>\n",
       "      <td>0.41384</td>\n",
       "      <td>0.50484</td>\n",
       "      <td>0.88461</td>\n",
       "      <td>0.90294</td>\n",
       "    </tr>\n",
       "    <tr>\n",
       "      <th>2</th>\n",
       "      <td>LASSO</td>\n",
       "      <td>0.16532</td>\n",
       "      <td>0.12751</td>\n",
       "      <td>0.79544</td>\n",
       "      <td>0.83170</td>\n",
       "    </tr>\n",
       "  </tbody>\n",
       "</table>\n",
       "</div>"
      ],
      "text/plain": [
       "   Model  Avg of optimal thresholds  Threshold for Fold5  Avg expected loss  \\\n",
       "0     M1                    0.11251              0.13466            0.85303   \n",
       "1     M2                    0.41384              0.50484            0.88461   \n",
       "2  LASSO                    0.16532              0.12751            0.79544   \n",
       "\n",
       "   Expected loss for Fold5  \n",
       "0                  0.90139  \n",
       "1                  0.90294  \n",
       "2                  0.83170  "
      ]
     },
     "execution_count": 69,
     "metadata": {},
     "output_type": "execute_result"
    }
   ],
   "source": [
    "summary_with_lossfnc"
   ]
  },
  {
   "cell_type": "markdown",
   "id": "d2a44d28-ed06-4e70-9e3c-bf176698a4b9",
   "metadata": {},
   "source": [
    "The table results above show the average expected loss calculated over the 5 folds using the training set. From the results we can see that the LASSO model has the lowest expected loss. This is unfortunately higher than we would prefer. Other models will be examined.\n",
    "___\n",
    "Below we plot the Loss Plot for the LASSO model showing the optimal threshold for limiting the number of False Negatives given our loss function."
   ]
  },
  {
   "cell_type": "code",
   "execution_count": 70,
   "id": "a81680fd-9523-402e-99ae-8b63d92bdda9",
   "metadata": {
    "tags": []
   },
   "outputs": [
    {
     "data": {
      "image/png": "[encoded data removed]",
      "text/plain": [
       "<Figure size 640x480 with 1 Axes>"
      ]
     },
     "metadata": {
      "image/png": {
       "height": 480,
       "width": 640
      }
     },
     "output_type": "display_data"
    },
    {
     "data": {
      "text/plain": [
       "<Figure Size: (640 x 480)>"
      ]
     },
     "execution_count": 70,
     "metadata": {},
     "output_type": "execute_result"
    }
   ],
   "source": [
    "model_to_plot = \"LASSO\"  # select model to plot\n",
    "create_loss_plot(\n",
    "    fold5_all_coords[model_to_plot],\n",
    "    fold5_threshold[model_to_plot],\n",
    "    fold5_expected_loss[model_to_plot],\n",
    ")"
   ]
  },
  {
   "cell_type": "markdown",
   "id": "6781f1ea-484c-4e35-b914-8449fe6406b4",
   "metadata": {},
   "source": [
    "Below we show the ROC Curve for the LASSO model."
   ]
  },
  {
   "cell_type": "code",
   "execution_count": 71,
   "id": "81622c48-99b7-45dd-b4a1-fa7522e926ce",
   "metadata": {
    "tags": []
   },
   "outputs": [
    {
     "data": {
      "image/png": "[encoded data removed]",
      "text/plain": [
       "<Figure size 640x480 with 1 Axes>"
      ]
     },
     "metadata": {
      "image/png": {
       "height": 480,
       "width": 640
      }
     },
     "output_type": "display_data"
    },
    {
     "data": {
      "text/plain": [
       "<Figure Size: (640 x 480)>"
      ]
     },
     "execution_count": 71,
     "metadata": {},
     "output_type": "execute_result"
    }
   ],
   "source": [
    "create_roc_plot_with_optimal(\n",
    "    fold5_all_coords[model_to_plot], fold5_threshold[model_to_plot]\n",
    ")"
   ]
  },
  {
   "cell_type": "code",
   "execution_count": 114,
   "id": "8e40729d-055a-4427-8dc8-f53845ee4c89",
   "metadata": {
    "tags": []
   },
   "outputs": [
    {
     "data": {
      "text/plain": [
       "2.008"
      ]
     },
     "execution_count": 114,
     "metadata": {},
     "output_type": "execute_result"
    }
   ],
   "source": [
    "best_logit_optimal_treshold = best_thresholds_cv[\"LASSO\"]\n",
    "\n",
    "# Get expected loss on holdout\n",
    "holdout_treshold = np.where(\n",
    "    holdout_df[\"best_logit_pred_proba\"] < best_logit_optimal_treshold, 0, 1\n",
    ")\n",
    "tn, fp, fn, tp = confusion_matrix(\n",
    "    holdout_df[\"default\"], holdout_treshold, labels=[0, 1]\n",
    ").ravel()\n",
    "expected_loss_holdout = (fp * FP + fn * FN) / len(holdout_df[\"default\"])\n",
    "lasso_expected_loss = round(expected_loss_holdout, 3)\n",
    "lasso_expected_loss"
   ]
  },
  {
   "cell_type": "code",
   "execution_count": 73,
   "id": "14aa365f-d0d1-4ee5-a692-220765121bc6",
   "metadata": {
    "tags": []
   },
   "outputs": [
    {
     "data": {
      "text/html": [
       "<div>\n",
       "<style scoped>\n",
       "    .dataframe tbody tr th:only-of-type {\n",
       "        vertical-align: middle;\n",
       "    }\n",
       "\n",
       "    .dataframe tbody tr th {\n",
       "        vertical-align: top;\n",
       "    }\n",
       "\n",
       "    .dataframe thead th {\n",
       "        text-align: right;\n",
       "    }\n",
       "</style>\n",
       "<table border=\"1\" class=\"dataframe\">\n",
       "  <thead>\n",
       "    <tr style=\"text-align: right;\">\n",
       "      <th></th>\n",
       "      <th>Predicted no default</th>\n",
       "      <th>Predicted default</th>\n",
       "    </tr>\n",
       "  </thead>\n",
       "  <tbody>\n",
       "    <tr>\n",
       "      <th>Actul no defaul</th>\n",
       "      <td>327</td>\n",
       "      <td>654</td>\n",
       "    </tr>\n",
       "    <tr>\n",
       "      <th>Actual default</th>\n",
       "      <td>8</td>\n",
       "      <td>48</td>\n",
       "    </tr>\n",
       "  </tbody>\n",
       "</table>\n",
       "</div>"
      ],
      "text/plain": [
       "                 Predicted no default  Predicted default\n",
       "Actul no defaul                   327                654\n",
       "Actual default                      8                 48"
      ]
     },
     "execution_count": 73,
     "metadata": {},
     "output_type": "execute_result"
    }
   ],
   "source": [
    "cm_object3 = confusion_matrix(holdout_df[\"default\"], holdout_treshold, labels=[0, 1])\n",
    "cm3 = pd.DataFrame(\n",
    "    cm_object3,\n",
    "    index=[\"Actul no defaul\", \"Actual default\"],\n",
    "    columns=[\"Predicted no default\", \"Predicted default\"],\n",
    ")\n",
    "cm3"
   ]
  },
  {
   "cell_type": "markdown",
   "id": "9966e4d1-5f0a-4431-9e65-c877e02a4710",
   "metadata": {},
   "source": [
    "Here we can see that the LASSO model does a very poor job of predicting defaults. It greatly limits the amount of false negatives but at the massive cost of producing a ton of false positives. While false positives are penalized less by our loss function than false negatives, this is still not an acceptable tradeoff when running the Logit LASSO on the holdout set. This is why the expected loss value on the holdout set is 2.008"
   ]
  },
  {
   "cell_type": "markdown",
   "id": "ca99e4c0-03ff-4f8e-af6c-43e9b085ed27",
   "metadata": {},
   "source": [
    "# Random Forest\n",
    "We create a Random Forest model fitting for accuracy using the shortlisted variables from the LASSO model defined above. We do this in order to only use the terms that are deemed to be significant according to the LASSO in order to not get more noisy and/or biased results from the Random Forest algorithm."
   ]
  },
  {
   "cell_type": "code",
   "execution_count": 117,
   "id": "e9fedf30-e91b-4a8a-a71a-28f7c046d8bc",
   "metadata": {
    "tags": []
   },
   "outputs": [],
   "source": [
    "k = KFold(n_splits=5, shuffle=True, random_state=20240229)"
   ]
  },
  {
   "cell_type": "code",
   "execution_count": 118,
   "id": "7ffaea90-e166-4fba-a415-ce0299e0f2bf",
   "metadata": {
    "tags": []
   },
   "outputs": [],
   "source": [
    "# Setting the training variables\n",
    "X_train = train_df[shortlist_vars]\n",
    "y_train = train_df['default']\n",
    "\n",
    "max_features = [6, 7, 8]\n",
    "min_samples = [7, 9, 11]\n",
    "zero_len = len(max_features)*len(min_samples)\n",
    "\n",
    "\n",
    "# Define parameter grid for GridSearchCV\n",
    "grid = {'max_features': max_features,\n",
    "        'criterion':['gini'],\n",
    "        'min_samples_split': min_samples}\n",
    "\n",
    "random_forest = RandomForestClassifier(random_state=20240229, n_estimators=500, oob_score=True)\n",
    "    \n",
    "# Create GridSearchCV\n",
    "random_forest_grid = GridSearchCV(random_forest, grid, cv=k, refit='accuracy', scoring = ['accuracy', 'roc_auc', 'neg_brier_score'], n_jobs=-1)"
   ]
  },
  {
   "cell_type": "code",
   "execution_count": 119,
   "id": "7caaac73-bf18-4fdb-b404-baa78e7869f0",
   "metadata": {
    "tags": []
   },
   "outputs": [
    {
     "name": "stdout",
     "output_type": "stream",
     "text": [
      "CPU times: total: 1min 1s\n",
      "Wall time: 6min 20s\n"
     ]
    }
   ],
   "source": [
    "%%time\n",
    "\n",
    "# Running the Random Forest Model\n",
    "random_forest_fit = random_forest_grid.fit(X_train, y_train)"
   ]
  },
  {
   "cell_type": "code",
   "execution_count": 120,
   "id": "475885c6-4e76-41a4-b624-a5e44542ff0f",
   "metadata": {
    "tags": []
   },
   "outputs": [
    {
     "data": {
      "text/plain": [
       "array([0.93817741, 0.93807421, 0.93807426, 0.93828077, 0.93848711,\n",
       "       0.93797101, 0.93776466, 0.93807426, 0.93817746])"
      ]
     },
     "execution_count": 120,
     "metadata": {},
     "output_type": "execute_result"
    }
   ],
   "source": [
    "rf_accuracy = np.zeros([zero_len])\n",
    "for i in range(5):\n",
    "    rf_accuracy += random_forest_fit.cv_results_['split' + str(i) + '_test_accuracy']\n",
    "rf_accuracy /= 5\n",
    "rf_accuracy"
   ]
  },
  {
   "cell_type": "code",
   "execution_count": 121,
   "id": "515f69c5-c2db-4878-baa3-cb63b9ffbd7d",
   "metadata": {
    "tags": []
   },
   "outputs": [
    {
     "data": {
      "text/plain": [
       "array([0.77595466, 0.77594344, 0.77698545, 0.77636241, 0.77680378,\n",
       "       0.77695677, 0.77641224, 0.77814088, 0.77368113])"
      ]
     },
     "execution_count": 121,
     "metadata": {},
     "output_type": "execute_result"
    }
   ],
   "source": [
    "rf_auc = np.zeros([zero_len])\n",
    "for i in range(5):\n",
    "    rf_auc += random_forest_fit.cv_results_['split' + str(i) + '_test_roc_auc']\n",
    "rf_auc /= 5\n",
    "rf_auc"
   ]
  },
  {
   "cell_type": "code",
   "execution_count": 122,
   "id": "4f5bd81e-f92d-467d-af31-c79664e9231e",
   "metadata": {
    "tags": []
   },
   "outputs": [
    {
     "data": {
      "text/plain": [
       "array([0.22980291, 0.22987989, 0.22981907, 0.23020946, 0.23009999,\n",
       "       0.23012935, 0.23027289, 0.23006411, 0.2301001 ])"
      ]
     },
     "execution_count": 122,
     "metadata": {},
     "output_type": "execute_result"
    }
   ],
   "source": [
    "rf_rmse = np.zeros([zero_len])\n",
    "for i in range(5):\n",
    "    rf_rmse += np.sqrt(-1*(random_forest_fit.cv_results_['split' + str(i) + '_test_neg_brier_score'])).tolist()\n",
    "rf_rmse /= 5\n",
    "rf_rmse"
   ]
  },
  {
   "cell_type": "code",
   "execution_count": 123,
   "id": "1e65404b-0151-435f-88aa-72ba4c32d664",
   "metadata": {
    "tags": []
   },
   "outputs": [
    {
     "data": {
      "text/html": [
       "<div>\n",
       "<style scoped>\n",
       "    .dataframe tbody tr th:only-of-type {\n",
       "        vertical-align: middle;\n",
       "    }\n",
       "\n",
       "    .dataframe tbody tr th {\n",
       "        vertical-align: top;\n",
       "    }\n",
       "\n",
       "    .dataframe thead th {\n",
       "        text-align: right;\n",
       "    }\n",
       "</style>\n",
       "<table border=\"1\" class=\"dataframe\">\n",
       "  <thead>\n",
       "    <tr style=\"text-align: right;\">\n",
       "      <th></th>\n",
       "      <th>max_features</th>\n",
       "      <th>min_samples_split</th>\n",
       "      <th>cv_accuracy</th>\n",
       "      <th>cv_auc</th>\n",
       "      <th>cv_rmse</th>\n",
       "    </tr>\n",
       "  </thead>\n",
       "  <tbody>\n",
       "    <tr>\n",
       "      <th>0</th>\n",
       "      <td>6</td>\n",
       "      <td>7</td>\n",
       "      <td>0.93818</td>\n",
       "      <td>0.77595</td>\n",
       "      <td>0.22980</td>\n",
       "    </tr>\n",
       "    <tr>\n",
       "      <th>1</th>\n",
       "      <td>6</td>\n",
       "      <td>9</td>\n",
       "      <td>0.93807</td>\n",
       "      <td>0.77594</td>\n",
       "      <td>0.22988</td>\n",
       "    </tr>\n",
       "    <tr>\n",
       "      <th>2</th>\n",
       "      <td>6</td>\n",
       "      <td>11</td>\n",
       "      <td>0.93807</td>\n",
       "      <td>0.77699</td>\n",
       "      <td>0.22982</td>\n",
       "    </tr>\n",
       "    <tr>\n",
       "      <th>3</th>\n",
       "      <td>7</td>\n",
       "      <td>7</td>\n",
       "      <td>0.93828</td>\n",
       "      <td>0.77636</td>\n",
       "      <td>0.23021</td>\n",
       "    </tr>\n",
       "    <tr>\n",
       "      <th>4</th>\n",
       "      <td>7</td>\n",
       "      <td>9</td>\n",
       "      <td>0.93849</td>\n",
       "      <td>0.77680</td>\n",
       "      <td>0.23010</td>\n",
       "    </tr>\n",
       "    <tr>\n",
       "      <th>5</th>\n",
       "      <td>7</td>\n",
       "      <td>11</td>\n",
       "      <td>0.93797</td>\n",
       "      <td>0.77696</td>\n",
       "      <td>0.23013</td>\n",
       "    </tr>\n",
       "    <tr>\n",
       "      <th>6</th>\n",
       "      <td>8</td>\n",
       "      <td>7</td>\n",
       "      <td>0.93776</td>\n",
       "      <td>0.77641</td>\n",
       "      <td>0.23027</td>\n",
       "    </tr>\n",
       "    <tr>\n",
       "      <th>7</th>\n",
       "      <td>8</td>\n",
       "      <td>9</td>\n",
       "      <td>0.93807</td>\n",
       "      <td>0.77814</td>\n",
       "      <td>0.23006</td>\n",
       "    </tr>\n",
       "    <tr>\n",
       "      <th>8</th>\n",
       "      <td>8</td>\n",
       "      <td>11</td>\n",
       "      <td>0.93818</td>\n",
       "      <td>0.77368</td>\n",
       "      <td>0.23010</td>\n",
       "    </tr>\n",
       "  </tbody>\n",
       "</table>\n",
       "</div>"
      ],
      "text/plain": [
       "  max_features min_samples_split  cv_accuracy  cv_auc  cv_rmse\n",
       "0            6                 7      0.93818 0.77595  0.22980\n",
       "1            6                 9      0.93807 0.77594  0.22988\n",
       "2            6                11      0.93807 0.77699  0.22982\n",
       "3            7                 7      0.93828 0.77636  0.23021\n",
       "4            7                 9      0.93849 0.77680  0.23010\n",
       "5            7                11      0.93797 0.77696  0.23013\n",
       "6            8                 7      0.93776 0.77641  0.23027\n",
       "7            8                 9      0.93807 0.77814  0.23006\n",
       "8            8                11      0.93818 0.77368  0.23010"
      ]
     },
     "execution_count": 123,
     "metadata": {},
     "output_type": "execute_result"
    }
   ],
   "source": [
    "random_forest_cv_results = pd.DataFrame({\n",
    "    'max_features': random_forest_fit.cv_results_['param_max_features'],\n",
    "    'min_samples_split': random_forest_fit.cv_results_['param_min_samples_split'],\n",
    "    'cv_accuracy': rf_accuracy,\n",
    "    'cv_auc': rf_auc,\n",
    "    'cv_rmse': rf_rmse\n",
    "})\n",
    "random_forest_cv_results"
   ]
  },
  {
   "cell_type": "code",
   "execution_count": 124,
   "id": "d747baaa-e0ea-4046-9776-977549c69469",
   "metadata": {
    "tags": []
   },
   "outputs": [
    {
     "data": {
      "text/plain": [
       "{'criterion': 'gini', 'max_features': 7, 'min_samples_split': 9}"
      ]
     },
     "execution_count": 124,
     "metadata": {},
     "output_type": "execute_result"
    }
   ],
   "source": [
    "best_mtry = random_forest_fit.best_params_[\"max_features\"]\n",
    "best_min_node_size = random_forest_fit.best_params_[\"min_samples_split\"]\n",
    "random_forest_fit.best_params_"
   ]
  },
  {
   "cell_type": "code",
   "execution_count": 125,
   "id": "58bbad13-5af3-45be-9dbd-eb5058c6e403",
   "metadata": {
    "tags": []
   },
   "outputs": [],
   "source": [
    "prob_forest_best_results = random_forest_cv_results[\n",
    "    (random_forest_cv_results.max_features == best_mtry)\n",
    "    & (random_forest_cv_results.min_samples_split == best_min_node_size)\n",
    "]\n",
    "prob_forest_best_results_index = prob_forest_best_results.index.values[0]"
   ]
  },
  {
   "cell_type": "markdown",
   "id": "6dc58a10-c594-4380-86f0-339a26f1ca30",
   "metadata": {},
   "source": [
    "Displaying the best results for the RF model"
   ]
  },
  {
   "cell_type": "code",
   "execution_count": 126,
   "id": "f2116177-38f6-4477-bf88-9eb221f29682",
   "metadata": {
    "tags": []
   },
   "outputs": [
    {
     "data": {
      "text/html": [
       "<div>\n",
       "<style scoped>\n",
       "    .dataframe tbody tr th:only-of-type {\n",
       "        vertical-align: middle;\n",
       "    }\n",
       "\n",
       "    .dataframe tbody tr th {\n",
       "        vertical-align: top;\n",
       "    }\n",
       "\n",
       "    .dataframe thead th {\n",
       "        text-align: right;\n",
       "    }\n",
       "</style>\n",
       "<table border=\"1\" class=\"dataframe\">\n",
       "  <thead>\n",
       "    <tr style=\"text-align: right;\">\n",
       "      <th></th>\n",
       "      <th>max_features</th>\n",
       "      <th>min_samples_split</th>\n",
       "      <th>cv_accuracy</th>\n",
       "      <th>cv_auc</th>\n",
       "      <th>cv_rmse</th>\n",
       "    </tr>\n",
       "  </thead>\n",
       "  <tbody>\n",
       "    <tr>\n",
       "      <th>4</th>\n",
       "      <td>7</td>\n",
       "      <td>9</td>\n",
       "      <td>0.93849</td>\n",
       "      <td>0.77680</td>\n",
       "      <td>0.23010</td>\n",
       "    </tr>\n",
       "  </tbody>\n",
       "</table>\n",
       "</div>"
      ],
      "text/plain": [
       "  max_features min_samples_split  cv_accuracy  cv_auc  cv_rmse\n",
       "4            7                 9      0.93849 0.77680  0.23010"
      ]
     },
     "execution_count": 126,
     "metadata": {},
     "output_type": "execute_result"
    }
   ],
   "source": [
    "prob_forest_best_results"
   ]
  },
  {
   "cell_type": "code",
   "execution_count": 127,
   "id": "19f8df68-e90e-4ea3-abb1-e04f302ea432",
   "metadata": {
    "tags": []
   },
   "outputs": [
    {
     "data": {
      "text/html": [
       "<div>\n",
       "<style scoped>\n",
       "    .dataframe tbody tr th:only-of-type {\n",
       "        vertical-align: middle;\n",
       "    }\n",
       "\n",
       "    .dataframe tbody tr th {\n",
       "        vertical-align: top;\n",
       "    }\n",
       "\n",
       "    .dataframe thead th {\n",
       "        text-align: right;\n",
       "    }\n",
       "</style>\n",
       "<table border=\"1\" class=\"dataframe\">\n",
       "  <thead>\n",
       "    <tr style=\"text-align: right;\">\n",
       "      <th></th>\n",
       "      <th>Number of Coefficients</th>\n",
       "      <th>CV RMSE</th>\n",
       "      <th>CV AUC</th>\n",
       "      <th>CV treshold</th>\n",
       "      <th>CV expected Loss</th>\n",
       "    </tr>\n",
       "  </thead>\n",
       "  <tbody>\n",
       "    <tr>\n",
       "      <th>M1</th>\n",
       "      <td>16.00000</td>\n",
       "      <td>0.23661</td>\n",
       "      <td>0.70373</td>\n",
       "      <td>0.11251</td>\n",
       "      <td>0.85303</td>\n",
       "    </tr>\n",
       "    <tr>\n",
       "      <th>M2</th>\n",
       "      <td>37.00000</td>\n",
       "      <td>0.34289</td>\n",
       "      <td>0.66335</td>\n",
       "      <td>0.41384</td>\n",
       "      <td>0.88461</td>\n",
       "    </tr>\n",
       "    <tr>\n",
       "      <th>LASSO</th>\n",
       "      <td>38.00000</td>\n",
       "      <td>0.23181</td>\n",
       "      <td>0.75826</td>\n",
       "      <td>0.16532</td>\n",
       "      <td>0.79544</td>\n",
       "    </tr>\n",
       "    <tr>\n",
       "      <th>RF</th>\n",
       "      <td>38.00000</td>\n",
       "      <td>0.23010</td>\n",
       "      <td>0.77680</td>\n",
       "      <td>0.21614</td>\n",
       "      <td>0.76045</td>\n",
       "    </tr>\n",
       "  </tbody>\n",
       "</table>\n",
       "</div>"
      ],
      "text/plain": [
       "       Number of Coefficients  CV RMSE  CV AUC  CV treshold  CV expected Loss\n",
       "M1                   16.00000  0.23661 0.70373      0.11251           0.85303\n",
       "M2                   37.00000  0.34289 0.66335      0.41384           0.88461\n",
       "LASSO                38.00000  0.23181 0.75826      0.16532           0.79544\n",
       "RF                   38.00000  0.23010 0.77680      0.21614           0.76045"
      ]
     },
     "execution_count": 127,
     "metadata": {},
     "output_type": "execute_result"
    }
   ],
   "source": [
    "summary.loc[\"RF\", \"Number of Coefficients\"] = len(shortlist_vars)\n",
    "summary.loc[\"RF\", \"CV RMSE\"] = prob_forest_best_results[\"cv_rmse\"].values[0]\n",
    "summary.loc[\"RF\", \"CV AUC\"] = prob_forest_best_results[\"cv_auc\"].values[0]\n",
    "summary"
   ]
  },
  {
   "cell_type": "markdown",
   "id": "a43c9f7a-332a-4f56-9876-7c24eb6ed0a5",
   "metadata": {},
   "source": [
    "From the results above we can see that the RF model has a better AUC score and RMSE than the other models using the shortlisted LASSO coefficients. From this we can gather that the algorithms from the RF are doing a better job of splitting the data than our theoretical OLS models do."
   ]
  },
  {
   "cell_type": "code",
   "execution_count": 128,
   "id": "5c194fd5-79c5-4985-9c10-940b59c6b191",
   "metadata": {
    "tags": []
   },
   "outputs": [],
   "source": [
    "FP = 3\n",
    "FN = 15\n",
    "cost = FN / FP\n",
    "prevelance = y_train.sum() / len(y_train)"
   ]
  },
  {
   "cell_type": "code",
   "execution_count": 129,
   "id": "9825318c-44ec-40f3-9f3e-8a6b5e401f59",
   "metadata": {
    "tags": []
   },
   "outputs": [],
   "source": [
    "best_thresholds = list()\n",
    "expected_loss = list()\n",
    "rfvars_train = pd.DataFrame(X_train)\n",
    "\n",
    "fold = 0\n",
    "for train_index, test_index in k.split(rfvars_train):\n",
    "    X_fold = rfvars_train.iloc[test_index, :]\n",
    "    y_fold = train_df[\"default\"].iloc[test_index]\n",
    "\n",
    "    X_fold_train = rfvars_train.iloc[train_index, :]\n",
    "    y_fold_train = train_df[\"default\"].iloc[train_index]\n",
    "\n",
    "    prob_forest_best = RandomForestClassifier(\n",
    "        random_state=20240229,\n",
    "        n_estimators=500,\n",
    "        oob_score=True,\n",
    "        criterion=\"gini\",\n",
    "        max_features=best_mtry,\n",
    "        min_samples_split=best_min_node_size,\n",
    "    )\n",
    "    prob_forest_best_fold = prob_forest_best.fit(X_fold_train, y_fold_train)\n",
    "    pred_fold = prob_forest_best_fold.predict_proba(X_fold)[:, 1]\n",
    "\n",
    "    false_pos_rate, true_pos_rate, threshold = roc_curve(y_fold, pred_fold)\n",
    "    best_threshold = sorted(\n",
    "        list(\n",
    "            zip(\n",
    "                np.abs(\n",
    "                    true_pos_rate\n",
    "                    + (1 - prevelance) / (cost * prevelance) * (1 - false_pos_rate)\n",
    "                ),\n",
    "                threshold,\n",
    "            )\n",
    "        ),\n",
    "        key=lambda x: x[0],\n",
    "        reverse=True,\n",
    "    )[0][1]\n",
    "    best_thresholds.append(best_threshold)\n",
    "    threshold_prediction = np.where(pred_fold < best_threshold, 0, 1)\n",
    "    tn, fp, fn, tp = confusion_matrix(\n",
    "        y_fold, threshold_prediction, labels=[0, 1]\n",
    "    ).ravel()\n",
    "    curr_exp_loss = (fp * FP + fn * FN) / len(y_fold)\n",
    "    expected_loss.append(curr_exp_loss)\n",
    "\n",
    "fold5_threshold_rf = best_threshold\n",
    "fold5_expected_loss_rf = curr_exp_loss\n",
    "\n",
    "all_coords_rf = pd.DataFrame(\n",
    "    {\n",
    "        \"false_pos\": false_pos_rate * sum(y_fold == 0),\n",
    "        \"true_pos\": true_pos_rate * sum(y_fold == 1),\n",
    "        \"false_neg\": sum(y_fold == 1) - true_pos_rate * sum(y_fold == 1),\n",
    "        \"true_neg\": sum(y_fold == 0) - false_pos_rate * sum(y_fold == 0),\n",
    "        \"pos\": sum(y_fold == 1),\n",
    "        \"neg\": sum(y_fold == 0),\n",
    "        \"n\": len(y_fold),\n",
    "        \"thresholds\": threshold,\n",
    "    }\n",
    ")"
   ]
  },
  {
   "cell_type": "code",
   "execution_count": 130,
   "id": "b6ab44af-810f-41d7-ba18-4815bf65c18b",
   "metadata": {
    "tags": []
   },
   "outputs": [],
   "source": [
    "expected_loss_cv[\"RF\"] = np.mean(expected_loss)\n",
    "best_thresholds_cv[\"RF\"] = np.mean(best_thresholds)"
   ]
  },
  {
   "cell_type": "code",
   "execution_count": 131,
   "id": "01c17050-39b5-4fd5-91c4-6fcbe05d089f",
   "metadata": {
    "tags": []
   },
   "outputs": [
    {
     "data": {
      "text/html": [
       "<div>\n",
       "<style scoped>\n",
       "    .dataframe tbody tr th:only-of-type {\n",
       "        vertical-align: middle;\n",
       "    }\n",
       "\n",
       "    .dataframe tbody tr th {\n",
       "        vertical-align: top;\n",
       "    }\n",
       "\n",
       "    .dataframe thead th {\n",
       "        text-align: right;\n",
       "    }\n",
       "</style>\n",
       "<table border=\"1\" class=\"dataframe\">\n",
       "  <thead>\n",
       "    <tr style=\"text-align: right;\">\n",
       "      <th></th>\n",
       "      <th>CV RMSE</th>\n",
       "      <th>CV AUC</th>\n",
       "      <th>Avg of optimal thresholds</th>\n",
       "      <th>Threshold for Fold5</th>\n",
       "      <th>Avg expected loss</th>\n",
       "      <th>Expected loss for Fold5</th>\n",
       "    </tr>\n",
       "  </thead>\n",
       "  <tbody>\n",
       "    <tr>\n",
       "      <th>0</th>\n",
       "      <td>0.23000</td>\n",
       "      <td>0.77700</td>\n",
       "      <td>0.21600</td>\n",
       "      <td>0.29500</td>\n",
       "      <td>0.76000</td>\n",
       "      <td>0.77300</td>\n",
       "    </tr>\n",
       "  </tbody>\n",
       "</table>\n",
       "</div>"
      ],
      "text/plain": [
       "   CV RMSE  CV AUC  Avg of optimal thresholds  Threshold for Fold5  \\\n",
       "0  0.23000 0.77700                    0.21600              0.29500   \n",
       "\n",
       "   Avg expected loss  Expected loss for Fold5  \n",
       "0            0.76000                  0.77300  "
      ]
     },
     "execution_count": 131,
     "metadata": {},
     "output_type": "execute_result"
    }
   ],
   "source": [
    "rf_summary = pd.DataFrame(\n",
    "    {\n",
    "        \"CV RMSE\": [round(prob_forest_best_results[\"cv_rmse\"].values[0], 3)],\n",
    "        \"CV AUC\": [round(prob_forest_best_results[\"cv_auc\"].values[0], 3)],\n",
    "        \"Avg of optimal thresholds\": [round(best_thresholds_cv[\"RF\"], 3)],\n",
    "        \"Threshold for Fold5\": [round(best_threshold, 3)],\n",
    "        \"Avg expected loss\": [round(expected_loss_cv[\"RF\"], 3)],\n",
    "        \"Expected loss for Fold5\": [round(curr_exp_loss, 3)],\n",
    "    }\n",
    ")\n",
    "\n",
    "rf_summary"
   ]
  },
  {
   "cell_type": "markdown",
   "id": "a494af10-5c34-412c-8b8d-d7fff0157c0d",
   "metadata": {},
   "source": [
    "Above we have the average expected loss, average optimal threshold, and the same respective values for the 5th fold for the RF model based on the training set. We can see that the model outperforms the LASSO model in every respect.\n",
    "___\n",
    "Below we create a Loss Plot of the RF showing the optimal threshold defined by our loss function."
   ]
  },
  {
   "cell_type": "code",
   "execution_count": 132,
   "id": "2575d0f3-64bf-4afb-b1ca-0f6abd5d95dd",
   "metadata": {
    "tags": []
   },
   "outputs": [
    {
     "data": {
      "image/png": "[encoded data removed]",
      "text/plain": [
       "<Figure size 640x480 with 1 Axes>"
      ]
     },
     "metadata": {
      "image/png": {
       "height": 480,
       "width": 640
      }
     },
     "output_type": "display_data"
    },
    {
     "data": {
      "text/plain": [
       "<Figure Size: (640 x 480)>"
      ]
     },
     "execution_count": 132,
     "metadata": {},
     "output_type": "execute_result"
    }
   ],
   "source": [
    "create_loss_plot(all_coords_rf, fold5_threshold_rf, fold5_expected_loss_rf)"
   ]
  },
  {
   "cell_type": "markdown",
   "id": "d69ac452-f6d2-45d1-aeb3-11ff26028bc6",
   "metadata": {},
   "source": [
    "Below is the ROC Curve for the RF model."
   ]
  },
  {
   "cell_type": "code",
   "execution_count": 133,
   "id": "9292c546-7a67-4012-a92d-ec03cc93732f",
   "metadata": {
    "tags": []
   },
   "outputs": [
    {
     "data": {
      "image/png": "[encoded data removed]",
      "text/plain": [
       "<Figure size 640x480 with 1 Axes>"
      ]
     },
     "metadata": {
      "image/png": {
       "height": 480,
       "width": 640
      }
     },
     "output_type": "display_data"
    },
    {
     "data": {
      "text/plain": [
       "<Figure Size: (640 x 480)>"
      ]
     },
     "execution_count": 133,
     "metadata": {},
     "output_type": "execute_result"
    }
   ],
   "source": [
    "create_roc_plot_with_optimal(all_coords_rf, fold5_threshold_rf)"
   ]
  },
  {
   "cell_type": "markdown",
   "id": "cd524cae-f807-4517-aebe-e060339ed016",
   "metadata": {},
   "source": [
    "From the Loss Plot we can see that the optimal threshold is .29 and that the loss flattens out at around .6.\n",
    "\n",
    "The ROC curve for the RF model shows that the model performs better than a baseline prediction with the best value being at the .02 FP and .25 TP rate. From this we can infer that the model does better at predicting firms defaulting at the smaller size than the medium sizes."
   ]
  },
  {
   "cell_type": "code",
   "execution_count": 134,
   "id": "694101a4-922e-43de-9ddb-b2d1206fbac8",
   "metadata": {
    "tags": []
   },
   "outputs": [],
   "source": [
    "# Setting the training variables\n",
    "X_holdout = holdout_df[shortlist_vars]\n",
    "y_holdout = holdout_df['default']"
   ]
  },
  {
   "cell_type": "code",
   "execution_count": 135,
   "id": "163b6211-d3b0-4f3e-b519-f14b04ad0c3e",
   "metadata": {
    "tags": []
   },
   "outputs": [
    {
     "data": {
      "text/plain": [
       "0.21"
      ]
     },
     "execution_count": 135,
     "metadata": {},
     "output_type": "execute_result"
    }
   ],
   "source": [
    "prob_forest_fit_best = random_forest_fit.best_estimator_\n",
    "rf_predicted_probabilities_holdout = prob_forest_fit_best.predict_proba(X_holdout)[\n",
    "    :, 1\n",
    "]\n",
    "rmse_rf = np.sqrt(mean_squared_error(y_holdout, rf_predicted_probabilities_holdout))\n",
    "round(rmse_rf, 3)"
   ]
  },
  {
   "cell_type": "code",
   "execution_count": 137,
   "id": "82c10e8c-6c09-4c97-8a5b-630d21dc79d7",
   "metadata": {
    "tags": []
   },
   "outputs": [
    {
     "data": {
      "text/plain": [
       "0.823"
      ]
     },
     "execution_count": 137,
     "metadata": {},
     "output_type": "execute_result"
    }
   ],
   "source": [
    "auc_rf = roc_auc_score(y_holdout, rf_predicted_probabilities_holdout)\n",
    "round(auc_rf, 3)"
   ]
  },
  {
   "cell_type": "code",
   "execution_count": 138,
   "id": "b91deeb3-ed47-4d5b-880a-cdaae0620837",
   "metadata": {
    "tags": []
   },
   "outputs": [
    {
     "data": {
      "text/plain": [
       "0.5641"
      ]
     },
     "execution_count": 138,
     "metadata": {},
     "output_type": "execute_result"
    }
   ],
   "source": [
    "holdout_treshold = np.where(\n",
    "    rf_predicted_probabilities_holdout < best_thresholds_cv[\"RF\"], 0, 1\n",
    ")\n",
    "tn, fp, fn, tp = confusion_matrix(y_holdout, holdout_treshold, labels=[0, 1]).ravel()\n",
    "expected_loss_holdout = (fp * FP + fn * FN) / len(y_holdout)\n",
    "rf_expected_loss = round(expected_loss_holdout, 4)\n",
    "rf_expected_loss"
   ]
  },
  {
   "cell_type": "markdown",
   "id": "a0b01027-89a4-419f-a91c-845c0fd4625f",
   "metadata": {},
   "source": [
    "Above is the expected loss value of the RF model on the holdout set. We can see that it vastly outperforms the LASSO model."
   ]
  },
  {
   "cell_type": "code",
   "execution_count": 95,
   "id": "364312ca-b4bd-440e-a87f-12cce804c5a4",
   "metadata": {
    "tags": []
   },
   "outputs": [],
   "source": [
    "summary[\"CV treshold\"] = best_thresholds_cv\n",
    "summary[\"CV expected Loss\"] = expected_loss_cv"
   ]
  },
  {
   "cell_type": "code",
   "execution_count": 96,
   "id": "fd72bdb6-a5a3-49db-889c-0966f70dac5f",
   "metadata": {
    "tags": []
   },
   "outputs": [
    {
     "data": {
      "text/html": [
       "<div>\n",
       "<style scoped>\n",
       "    .dataframe tbody tr th:only-of-type {\n",
       "        vertical-align: middle;\n",
       "    }\n",
       "\n",
       "    .dataframe tbody tr th {\n",
       "        vertical-align: top;\n",
       "    }\n",
       "\n",
       "    .dataframe thead th {\n",
       "        text-align: right;\n",
       "    }\n",
       "</style>\n",
       "<table border=\"1\" class=\"dataframe\">\n",
       "  <thead>\n",
       "    <tr style=\"text-align: right;\">\n",
       "      <th></th>\n",
       "      <th>Number of Coefficients</th>\n",
       "      <th>CV RMSE</th>\n",
       "      <th>CV AUC</th>\n",
       "      <th>CV treshold</th>\n",
       "      <th>CV expected Loss</th>\n",
       "    </tr>\n",
       "  </thead>\n",
       "  <tbody>\n",
       "    <tr>\n",
       "      <th>M1</th>\n",
       "      <td>16.00000</td>\n",
       "      <td>0.23660</td>\n",
       "      <td>0.70370</td>\n",
       "      <td>0.11250</td>\n",
       "      <td>0.85300</td>\n",
       "    </tr>\n",
       "    <tr>\n",
       "      <th>M2</th>\n",
       "      <td>37.00000</td>\n",
       "      <td>0.34290</td>\n",
       "      <td>0.66340</td>\n",
       "      <td>0.41380</td>\n",
       "      <td>0.88460</td>\n",
       "    </tr>\n",
       "    <tr>\n",
       "      <th>LASSO</th>\n",
       "      <td>38.00000</td>\n",
       "      <td>0.23180</td>\n",
       "      <td>0.75830</td>\n",
       "      <td>0.16530</td>\n",
       "      <td>0.79540</td>\n",
       "    </tr>\n",
       "    <tr>\n",
       "      <th>RF</th>\n",
       "      <td>38.00000</td>\n",
       "      <td>0.23010</td>\n",
       "      <td>0.77680</td>\n",
       "      <td>0.21610</td>\n",
       "      <td>0.76050</td>\n",
       "    </tr>\n",
       "  </tbody>\n",
       "</table>\n",
       "</div>"
      ],
      "text/plain": [
       "       Number of Coefficients  CV RMSE  CV AUC  CV treshold  CV expected Loss\n",
       "M1                   16.00000  0.23660 0.70370      0.11250           0.85300\n",
       "M2                   37.00000  0.34290 0.66340      0.41380           0.88460\n",
       "LASSO                38.00000  0.23180 0.75830      0.16530           0.79540\n",
       "RF                   38.00000  0.23010 0.77680      0.21610           0.76050"
      ]
     },
     "execution_count": 96,
     "metadata": {},
     "output_type": "execute_result"
    }
   ],
   "source": [
    "summary.round(4)"
   ]
  },
  {
   "cell_type": "markdown",
   "id": "b4ab57dd-a5aa-4b84-b583-51f91f60a353",
   "metadata": {},
   "source": [
    "Above we can see a comparison of all the models created so far. The RF model has the best AUC score and the lowest excepted loss when used on the training set."
   ]
  },
  {
   "cell_type": "code",
   "execution_count": 97,
   "id": "5f4a79bc-bce5-4ed1-8299-eb8a44063c25",
   "metadata": {
    "tags": []
   },
   "outputs": [
    {
     "data": {
      "text/html": [
       "<div>\n",
       "<style scoped>\n",
       "    .dataframe tbody tr th:only-of-type {\n",
       "        vertical-align: middle;\n",
       "    }\n",
       "\n",
       "    .dataframe tbody tr th {\n",
       "        vertical-align: top;\n",
       "    }\n",
       "\n",
       "    .dataframe thead th {\n",
       "        text-align: right;\n",
       "    }\n",
       "</style>\n",
       "<table border=\"1\" class=\"dataframe\">\n",
       "  <thead>\n",
       "    <tr style=\"text-align: right;\">\n",
       "      <th></th>\n",
       "      <th>Predicted no default</th>\n",
       "      <th>Predicted default</th>\n",
       "    </tr>\n",
       "  </thead>\n",
       "  <tbody>\n",
       "    <tr>\n",
       "      <th>Actual no default</th>\n",
       "      <td>946</td>\n",
       "      <td>35</td>\n",
       "    </tr>\n",
       "    <tr>\n",
       "      <th>Actual default</th>\n",
       "      <td>32</td>\n",
       "      <td>24</td>\n",
       "    </tr>\n",
       "  </tbody>\n",
       "</table>\n",
       "</div>"
      ],
      "text/plain": [
       "                   Predicted no default  Predicted default\n",
       "Actual no default                   946                 35\n",
       "Actual default                       32                 24"
      ]
     },
     "execution_count": 97,
     "metadata": {},
     "output_type": "execute_result"
    }
   ],
   "source": [
    "cm_object3 = confusion_matrix(holdout_df[\"default\"], holdout_treshold, labels=[0, 1])\n",
    "cm3 = pd.DataFrame(\n",
    "    cm_object3,\n",
    "    index=[\"Actual no default\", \"Actual default\"],\n",
    "    columns=[\"Predicted no default\", \"Predicted default\"],\n",
    ")\n",
    "cm3"
   ]
  },
  {
   "cell_type": "markdown",
   "id": "ca3f56f2-86ec-4f7d-a95b-f10cf40764ee",
   "metadata": {},
   "source": [
    "Here we can see the performance of the RF model on the holdout set. We see that it does a better job of correctly predicting defaults while getting lower false negatives (no default predict on a firm that actually defaults) than the LASSO model by far."
   ]
  },
  {
   "cell_type": "markdown",
   "id": "0769eab9-6aca-483d-adc2-1aef8cc60307",
   "metadata": {},
   "source": [
    "# GBM"
   ]
  },
  {
   "cell_type": "code",
   "execution_count": 98,
   "id": "57b9d4e5-ed5a-4572-954a-fa91026be0b2",
   "metadata": {
    "tags": []
   },
   "outputs": [],
   "source": [
    "# Setting the training variables\n",
    "X_train = train_df[shortlist_vars]\n",
    "y_train = train_df['default']"
   ]
  },
  {
   "cell_type": "code",
   "execution_count": 99,
   "id": "ae88c700-3c81-4173-b2ea-74257b135ce2",
   "metadata": {
    "tags": []
   },
   "outputs": [],
   "source": [
    "# Setting best model to a variable\n",
    "rf_best = random_forest_fit.best_estimator_\n",
    "\n",
    "# Creating a GBM Classifier object\n",
    "gbm = GradientBoostingClassifier(learning_rate=0.1, min_samples_split=10, max_features=40)\n",
    "\n",
    "# Setting tuning parameters\n",
    "n_est = [200, 300]\n",
    "max_dep = [6, 8]\n",
    "gbm_zero_len = len(n_est) * len(max_dep)\n",
    "\n",
    "# Assigning grid values\n",
    "tune_grid = {'n_estimators': n_est, 'max_depth': max_dep}\n",
    "\n",
    "# Setting model covariates via GridSearch\n",
    "gbm_model_cv = GridSearchCV(gbm, tune_grid, cv=k, refit='accuracy', scoring=['accuracy', 'roc_auc', 'neg_brier_score'], n_jobs=-1)"
   ]
  },
  {
   "cell_type": "code",
   "execution_count": 100,
   "id": "7b70dac6-15a8-410a-b164-7cc8465346a8",
   "metadata": {
    "tags": []
   },
   "outputs": [
    {
     "name": "stdout",
     "output_type": "stream",
     "text": [
      "CPU times: total: 1min 44s\n",
      "Wall time: 6min 7s\n"
     ]
    }
   ],
   "source": [
    "%%time\n",
    "\n",
    "# Running GBM\n",
    "gbm_fit = gbm_model_cv.fit(X_train, y_train)"
   ]
  },
  {
   "cell_type": "code",
   "execution_count": 101,
   "id": "d10bc1c1-7bb9-4187-8304-bc01c895a0d1",
   "metadata": {
    "tags": []
   },
   "outputs": [],
   "source": [
    "# Grabbing scores from GBM\n",
    "gbm_accuracy = np.zeros(gbm_zero_len)\n",
    "gbm_auc = np.zeros(gbm_zero_len)\n",
    "gbm_rmse = np.zeros(gbm_zero_len)\n",
    "\n",
    "# Extracting scores from cross-validation results\n",
    "for i in range(5):\n",
    "    gbm_accuracy += gbm_fit.cv_results_['split' + str(i) + '_test_accuracy']\n",
    "    gbm_auc += gbm_fit.cv_results_['split' + str(i) + '_test_roc_auc']\n",
    "    gbm_rmse += np.sqrt(-1 * gbm_fit.cv_results_['split' + str(i) + '_test_neg_brier_score'])\n",
    "\n",
    "# Computing mean scores\n",
    "gbm_accuracy /= 5\n",
    "gbm_auc /= 5\n",
    "gbm_rmse /= 5"
   ]
  },
  {
   "cell_type": "code",
   "execution_count": 102,
   "id": "e677efbe-5576-4fb2-8474-0c7f54248cc2",
   "metadata": {
    "tags": []
   },
   "outputs": [
    {
     "data": {
      "text/html": [
       "<div>\n",
       "<style scoped>\n",
       "    .dataframe tbody tr th:only-of-type {\n",
       "        vertical-align: middle;\n",
       "    }\n",
       "\n",
       "    .dataframe tbody tr th {\n",
       "        vertical-align: top;\n",
       "    }\n",
       "\n",
       "    .dataframe thead th {\n",
       "        text-align: right;\n",
       "    }\n",
       "</style>\n",
       "<table border=\"1\" class=\"dataframe\">\n",
       "  <thead>\n",
       "    <tr style=\"text-align: right;\">\n",
       "      <th></th>\n",
       "      <th>max_depth</th>\n",
       "      <th>n_estimators</th>\n",
       "      <th>cv_accuracy</th>\n",
       "      <th>cv_auc</th>\n",
       "      <th>cv_rmse</th>\n",
       "    </tr>\n",
       "  </thead>\n",
       "  <tbody>\n",
       "    <tr>\n",
       "      <th>0</th>\n",
       "      <td>6</td>\n",
       "      <td>200</td>\n",
       "      <td>0.93642</td>\n",
       "      <td>0.75133</td>\n",
       "      <td>0.23703</td>\n",
       "    </tr>\n",
       "    <tr>\n",
       "      <th>1</th>\n",
       "      <td>6</td>\n",
       "      <td>300</td>\n",
       "      <td>0.93684</td>\n",
       "      <td>0.74423</td>\n",
       "      <td>0.23863</td>\n",
       "    </tr>\n",
       "    <tr>\n",
       "      <th>2</th>\n",
       "      <td>8</td>\n",
       "      <td>200</td>\n",
       "      <td>0.93498</td>\n",
       "      <td>0.74730</td>\n",
       "      <td>0.24011</td>\n",
       "    </tr>\n",
       "    <tr>\n",
       "      <th>3</th>\n",
       "      <td>8</td>\n",
       "      <td>300</td>\n",
       "      <td>0.93539</td>\n",
       "      <td>0.74621</td>\n",
       "      <td>0.24364</td>\n",
       "    </tr>\n",
       "  </tbody>\n",
       "</table>\n",
       "</div>"
      ],
      "text/plain": [
       "  max_depth n_estimators  cv_accuracy  cv_auc  cv_rmse\n",
       "0         6          200      0.93642 0.75133  0.23703\n",
       "1         6          300      0.93684 0.74423  0.23863\n",
       "2         8          200      0.93498 0.74730  0.24011\n",
       "3         8          300      0.93539 0.74621  0.24364"
      ]
     },
     "execution_count": 102,
     "metadata": {},
     "output_type": "execute_result"
    }
   ],
   "source": [
    "# Displaying GBM results in a df\n",
    "gbm_cv_results = pd.DataFrame({\n",
    "    'max_depth': gbm_fit.cv_results_['param_max_depth'],\n",
    "    'n_estimators': gbm_fit.cv_results_['param_n_estimators'],\n",
    "    'cv_accuracy': gbm_accuracy,\n",
    "    'cv_auc': gbm_auc,\n",
    "    'cv_rmse': gbm_rmse\n",
    "})\n",
    "gbm_cv_results"
   ]
  },
  {
   "cell_type": "code",
   "execution_count": 103,
   "id": "9861d496-b154-4765-921d-5008b77de26a",
   "metadata": {
    "tags": []
   },
   "outputs": [
    {
     "data": {
      "text/html": [
       "<style>#sk-container-id-2 {color: black;}#sk-container-id-2 pre{padding: 0;}#sk-container-id-2 div.sk-toggleable {background-color: white;}#sk-container-id-2 label.sk-toggleable__label {cursor: pointer;display: block;width: 100%;margin-bottom: 0;padding: 0.3em;box-sizing: border-box;text-align: center;}#sk-container-id-2 label.sk-toggleable__label-arrow:before {content: \"▸\";float: left;margin-right: 0.25em;color: #696969;}#sk-container-id-2 label.sk-toggleable__label-arrow:hover:before {color: black;}#sk-container-id-2 div.sk-estimator:hover label.sk-toggleable__label-arrow:before {color: black;}#sk-container-id-2 div.sk-toggleable__content {max-height: 0;max-width: 0;overflow: hidden;text-align: left;background-color: #f0f8ff;}#sk-container-id-2 div.sk-toggleable__content pre {margin: 0.2em;color: black;border-radius: 0.25em;background-color: #f0f8ff;}#sk-container-id-2 input.sk-toggleable__control:checked~div.sk-toggleable__content {max-height: 200px;max-width: 100%;overflow: auto;}#sk-container-id-2 input.sk-toggleable__control:checked~label.sk-toggleable__label-arrow:before {content: \"▾\";}#sk-container-id-2 div.sk-estimator input.sk-toggleable__control:checked~label.sk-toggleable__label {background-color: #d4ebff;}#sk-container-id-2 div.sk-label input.sk-toggleable__control:checked~label.sk-toggleable__label {background-color: #d4ebff;}#sk-container-id-2 input.sk-hidden--visually {border: 0;clip: rect(1px 1px 1px 1px);clip: rect(1px, 1px, 1px, 1px);height: 1px;margin: -1px;overflow: hidden;padding: 0;position: absolute;width: 1px;}#sk-container-id-2 div.sk-estimator {font-family: monospace;background-color: #f0f8ff;border: 1px dotted black;border-radius: 0.25em;box-sizing: border-box;margin-bottom: 0.5em;}#sk-container-id-2 div.sk-estimator:hover {background-color: #d4ebff;}#sk-container-id-2 div.sk-parallel-item::after {content: \"\";width: 100%;border-bottom: 1px solid gray;flex-grow: 1;}#sk-container-id-2 div.sk-label:hover label.sk-toggleable__label {background-color: #d4ebff;}#sk-container-id-2 div.sk-serial::before {content: \"\";position: absolute;border-left: 1px solid gray;box-sizing: border-box;top: 0;bottom: 0;left: 50%;z-index: 0;}#sk-container-id-2 div.sk-serial {display: flex;flex-direction: column;align-items: center;background-color: white;padding-right: 0.2em;padding-left: 0.2em;position: relative;}#sk-container-id-2 div.sk-item {position: relative;z-index: 1;}#sk-container-id-2 div.sk-parallel {display: flex;align-items: stretch;justify-content: center;background-color: white;position: relative;}#sk-container-id-2 div.sk-item::before, #sk-container-id-2 div.sk-parallel-item::before {content: \"\";position: absolute;border-left: 1px solid gray;box-sizing: border-box;top: 0;bottom: 0;left: 50%;z-index: -1;}#sk-container-id-2 div.sk-parallel-item {display: flex;flex-direction: column;z-index: 1;position: relative;background-color: white;}#sk-container-id-2 div.sk-parallel-item:first-child::after {align-self: flex-end;width: 50%;}#sk-container-id-2 div.sk-parallel-item:last-child::after {align-self: flex-start;width: 50%;}#sk-container-id-2 div.sk-parallel-item:only-child::after {width: 0;}#sk-container-id-2 div.sk-dashed-wrapped {border: 1px dashed gray;margin: 0 0.4em 0.5em 0.4em;box-sizing: border-box;padding-bottom: 0.4em;background-color: white;}#sk-container-id-2 div.sk-label label {font-family: monospace;font-weight: bold;display: inline-block;line-height: 1.2em;}#sk-container-id-2 div.sk-label-container {text-align: center;}#sk-container-id-2 div.sk-container {/* jupyter's `normalize.less` sets `[hidden] { display: none; }` but bootstrap.min.css set `[hidden] { display: none !important; }` so we also need the `!important` here to be able to override the default hidden behavior on the sphinx rendered scikit-learn.org. See: https://github.com/scikit-learn/scikit-learn/issues/21755 */display: inline-block !important;position: relative;}#sk-container-id-2 div.sk-text-repr-fallback {display: none;}</style><div id=\"sk-container-id-2\" class=\"sk-top-container\"><div class=\"sk-text-repr-fallback\"><pre>GradientBoostingClassifier(max_depth=6, max_features=40, min_samples_split=10,\n",
       "                           n_estimators=300)</pre><b>In a Jupyter environment, please rerun this cell to show the HTML representation or trust the notebook. <br />On GitHub, the HTML representation is unable to render, please try loading this page with nbviewer.org.</b></div><div class=\"sk-container\" hidden><div class=\"sk-item\"><div class=\"sk-estimator sk-toggleable\"><input class=\"sk-toggleable__control sk-hidden--visually\" id=\"sk-estimator-id-2\" type=\"checkbox\" checked><label for=\"sk-estimator-id-2\" class=\"sk-toggleable__label sk-toggleable__label-arrow\">GradientBoostingClassifier</label><div class=\"sk-toggleable__content\"><pre>GradientBoostingClassifier(max_depth=6, max_features=40, min_samples_split=10,\n",
       "                           n_estimators=300)</pre></div></div></div></div></div>"
      ],
      "text/plain": [
       "GradientBoostingClassifier(max_depth=6, max_features=40, min_samples_split=10,\n",
       "                           n_estimators=300)"
      ]
     },
     "execution_count": 103,
     "metadata": {},
     "output_type": "execute_result"
    }
   ],
   "source": [
    "# Setting GBM best estimator to a variable\n",
    "gbm_best = gbm_fit.best_estimator_\n",
    "gbm_best "
   ]
  },
  {
   "cell_type": "code",
   "execution_count": 104,
   "id": "f84e3011-fdc3-4c2a-85d8-173ba3e9ccd4",
   "metadata": {
    "tags": []
   },
   "outputs": [],
   "source": [
    "# Getting the best values to create a dataframe\n",
    "\n",
    "# Random Forest\n",
    "rf_best_max_features = random_forest_fit.best_params_['max_features']\n",
    "rf_best_min_sample_split = random_forest_fit.best_params_['min_samples_split']\n",
    "\n",
    "rf_best_results = random_forest_cv_results[\n",
    "    (random_forest_cv_results.max_features == rf_best_max_features) & \n",
    "    (random_forest_cv_results.min_samples_split == rf_best_min_sample_split)]\n",
    "rf_best_results_index = rf_best_results.index.values[0]\n",
    "\n",
    "# GBM\n",
    "gbm_best_max_depth = gbm_fit.best_params_['max_depth']\n",
    "gbm_best_n_estimators = gbm_fit.best_params_['n_estimators']\n",
    "\n",
    "gbm_best_results = gbm_cv_results[\n",
    "    (gbm_cv_results.max_depth == gbm_best_max_depth) &\n",
    "    (gbm_cv_results.n_estimators == gbm_best_n_estimators)]\n",
    "gbm_best_results_index = gbm_best_results.index.values[0]"
   ]
  },
  {
   "cell_type": "code",
   "execution_count": 105,
   "id": "dfea3085-4fd4-43ec-8d14-7058a9e3ecd4",
   "metadata": {
    "tags": []
   },
   "outputs": [],
   "source": [
    "best_thresholds = list()\n",
    "expected_loss = list()\n",
    "gbm_train = pd.DataFrame(X_train)\n",
    "\n",
    "fold = 0\n",
    "for train_index, test_index in k.split(gbm_train):\n",
    "    X_fold = gbm_train.iloc[test_index, :]\n",
    "    y_fold = train_df[\"default\"].iloc[test_index]\n",
    "\n",
    "    X_fold_train = gbm_train.iloc[train_index, :]\n",
    "    y_fold_train = train_df[\"default\"].iloc[train_index]\n",
    "\n",
    "    gbm_best_classifier = GradientBoostingClassifier(\n",
    "        random_state=20240229,\n",
    "        n_estimators=gbm_best_n_estimators,\n",
    "        max_depth = gbm_best_max_depth,\n",
    "        min_samples_split = 10,\n",
    "    )\n",
    "    \n",
    "    gbm_best_fold = gbm_best.fit(X_fold_train, y_fold_train)\n",
    "    gbm_pred_fold = gbm_best_fold.predict_proba(X_fold)[:, 1]\n",
    "\n",
    "    false_pos_rate, true_pos_rate, threshold = roc_curve(y_fold, gbm_pred_fold)\n",
    "    best_threshold = sorted(\n",
    "        list(\n",
    "            zip(\n",
    "                np.abs(\n",
    "                    true_pos_rate\n",
    "                    + (1 - prevelance) / (cost * prevelance) * (1 - false_pos_rate)\n",
    "                ),\n",
    "                threshold,\n",
    "            )\n",
    "        ),\n",
    "        key=lambda x: x[0],\n",
    "        reverse=True,\n",
    "    )[0][1]\n",
    "    best_thresholds.append(best_threshold)\n",
    "    threshold_prediction = np.where(gbm_pred_fold < best_threshold, 0, 1)\n",
    "    tn, fp, fn, tp = confusion_matrix(\n",
    "        y_fold, threshold_prediction, labels=[0, 1]\n",
    "    ).ravel()\n",
    "    curr_exp_loss = (fp * FP + fn * FN) / len(y_fold)\n",
    "    expected_loss.append(curr_exp_loss)\n",
    "\n",
    "fold5_threshold_rf = best_threshold\n",
    "fold5_expected_loss_rf = curr_exp_loss\n",
    "\n",
    "all_coords_rf = pd.DataFrame(\n",
    "    {\n",
    "        \"false_pos\": false_pos_rate * sum(y_fold == 0),\n",
    "        \"true_pos\": true_pos_rate * sum(y_fold == 1),\n",
    "        \"false_neg\": sum(y_fold == 1) - true_pos_rate * sum(y_fold == 1),\n",
    "        \"true_neg\": sum(y_fold == 0) - false_pos_rate * sum(y_fold == 0),\n",
    "        \"pos\": sum(y_fold == 1),\n",
    "        \"neg\": sum(y_fold == 0),\n",
    "        \"n\": len(y_fold),\n",
    "        \"thresholds\": threshold,\n",
    "    }\n",
    ")"
   ]
  },
  {
   "cell_type": "code",
   "execution_count": 106,
   "id": "b9e244aa-7426-444f-a1e2-0a0174412ea4",
   "metadata": {
    "tags": []
   },
   "outputs": [],
   "source": [
    "expected_loss_cv[\"GBM\"] = np.mean(expected_loss)\n",
    "best_thresholds_cv[\"GBM\"] = np.mean(best_thresholds)"
   ]
  },
  {
   "cell_type": "code",
   "execution_count": 107,
   "id": "d77326f1-7949-42c1-b143-633d63180733",
   "metadata": {
    "tags": []
   },
   "outputs": [
    {
     "data": {
      "text/html": [
       "<div>\n",
       "<style scoped>\n",
       "    .dataframe tbody tr th:only-of-type {\n",
       "        vertical-align: middle;\n",
       "    }\n",
       "\n",
       "    .dataframe tbody tr th {\n",
       "        vertical-align: top;\n",
       "    }\n",
       "\n",
       "    .dataframe thead th {\n",
       "        text-align: right;\n",
       "    }\n",
       "</style>\n",
       "<table border=\"1\" class=\"dataframe\">\n",
       "  <thead>\n",
       "    <tr style=\"text-align: right;\">\n",
       "      <th></th>\n",
       "      <th>CV RMSE</th>\n",
       "      <th>CV AUC</th>\n",
       "      <th>Avg of optimal thresholds</th>\n",
       "      <th>Threshold for Fold5</th>\n",
       "      <th>Avg expected loss</th>\n",
       "      <th>Expected loss for Fold5</th>\n",
       "    </tr>\n",
       "  </thead>\n",
       "  <tbody>\n",
       "    <tr>\n",
       "      <th>0</th>\n",
       "      <td>0.23863</td>\n",
       "      <td>0.74423</td>\n",
       "      <td>0.15789</td>\n",
       "      <td>0.44301</td>\n",
       "      <td>0.79606</td>\n",
       "      <td>0.84409</td>\n",
       "    </tr>\n",
       "  </tbody>\n",
       "</table>\n",
       "</div>"
      ],
      "text/plain": [
       "   CV RMSE  CV AUC  Avg of optimal thresholds  Threshold for Fold5  \\\n",
       "0  0.23863 0.74423                    0.15789              0.44301   \n",
       "\n",
       "   Avg expected loss  Expected loss for Fold5  \n",
       "0            0.79606                  0.84409  "
      ]
     },
     "execution_count": 107,
     "metadata": {},
     "output_type": "execute_result"
    }
   ],
   "source": [
    "gbm_summary = pd.DataFrame(\n",
    "    {\n",
    "        \"CV RMSE\": [round(gbm_best_results[\"cv_rmse\"].values[0], 5)],\n",
    "        \"CV AUC\": [round(gbm_best_results[\"cv_auc\"].values[0], 5)],\n",
    "        \"Avg of optimal thresholds\": [round(best_thresholds_cv[\"GBM\"], 5)],\n",
    "        \"Threshold for Fold5\": [round(best_threshold, 5)],\n",
    "        \"Avg expected loss\": [round(expected_loss_cv[\"GBM\"], 5)],\n",
    "        \"Expected loss for Fold5\": [round(curr_exp_loss, 5)],\n",
    "    }\n",
    ")\n",
    "\n",
    "gbm_summary"
   ]
  },
  {
   "cell_type": "code",
   "execution_count": 108,
   "id": "97c78870-c5d1-4676-b3bb-0c1dd67db40c",
   "metadata": {
    "tags": []
   },
   "outputs": [],
   "source": [
    "# Setting the training variables\n",
    "X_holdout = holdout_df[shortlist_vars]\n",
    "y_holdout = holdout_df['default']"
   ]
  },
  {
   "cell_type": "code",
   "execution_count": 109,
   "id": "3750da4f-a248-4578-955b-66b90570437e",
   "metadata": {
    "tags": []
   },
   "outputs": [
    {
     "data": {
      "text/plain": [
       "0.219"
      ]
     },
     "execution_count": 109,
     "metadata": {},
     "output_type": "execute_result"
    }
   ],
   "source": [
    "prob_forest_fit_best = gbm_fit.best_estimator_\n",
    "rf_predicted_probabilities_holdout = prob_forest_fit_best.predict_proba(X_holdout)[\n",
    "    :, 1\n",
    "]\n",
    "rmse_rf = np.sqrt(mean_squared_error(y_holdout, rf_predicted_probabilities_holdout))\n",
    "round(rmse_rf, 3)"
   ]
  },
  {
   "cell_type": "code",
   "execution_count": 110,
   "id": "dd2b03aa-59d5-4034-8289-3429519173a4",
   "metadata": {
    "tags": []
   },
   "outputs": [
    {
     "data": {
      "text/plain": [
       "0.797"
      ]
     },
     "execution_count": 110,
     "metadata": {},
     "output_type": "execute_result"
    }
   ],
   "source": [
    "auc_rf = roc_auc_score(y_holdout, rf_predicted_probabilities_holdout)\n",
    "round(auc_rf, 3)"
   ]
  },
  {
   "cell_type": "code",
   "execution_count": 116,
   "id": "18cf7197-a342-4169-8fcd-6fd3a1126915",
   "metadata": {
    "tags": []
   },
   "outputs": [
    {
     "data": {
      "text/plain": [
       "0.677"
      ]
     },
     "execution_count": 116,
     "metadata": {},
     "output_type": "execute_result"
    }
   ],
   "source": [
    "holdout_treshold = np.where(\n",
    "    rf_predicted_probabilities_holdout < best_thresholds_cv[\"RF\"], 0, 1\n",
    ")\n",
    "tn, fp, fn, tp = confusion_matrix(y_holdout, holdout_treshold, labels=[0, 1]).ravel()\n",
    "expected_loss_holdout = (fp * FP + fn * FN) / len(y_holdout)\n",
    "gbm_expected_loss = round(expected_loss_holdout, 3)\n",
    "gbm_expected_loss"
   ]
  },
  {
   "cell_type": "code",
   "execution_count": 112,
   "id": "b97789d5-4b34-45b4-8ab4-929821fae274",
   "metadata": {
    "tags": []
   },
   "outputs": [],
   "source": [
    "summary[\"CV treshold\"] = best_thresholds_cv\n",
    "summary[\"CV expected Loss\"] = expected_loss_cv"
   ]
  },
  {
   "cell_type": "code",
   "execution_count": 113,
   "id": "375f5970-a256-464d-8167-5ac9848d2439",
   "metadata": {
    "tags": []
   },
   "outputs": [
    {
     "data": {
      "text/html": [
       "<div>\n",
       "<style scoped>\n",
       "    .dataframe tbody tr th:only-of-type {\n",
       "        vertical-align: middle;\n",
       "    }\n",
       "\n",
       "    .dataframe tbody tr th {\n",
       "        vertical-align: top;\n",
       "    }\n",
       "\n",
       "    .dataframe thead th {\n",
       "        text-align: right;\n",
       "    }\n",
       "</style>\n",
       "<table border=\"1\" class=\"dataframe\">\n",
       "  <thead>\n",
       "    <tr style=\"text-align: right;\">\n",
       "      <th></th>\n",
       "      <th>Predicted no default</th>\n",
       "      <th>Predicted default</th>\n",
       "    </tr>\n",
       "  </thead>\n",
       "  <tbody>\n",
       "    <tr>\n",
       "      <th>Actul no defaul</th>\n",
       "      <td>962</td>\n",
       "      <td>19</td>\n",
       "    </tr>\n",
       "    <tr>\n",
       "      <th>Actual default</th>\n",
       "      <td>43</td>\n",
       "      <td>13</td>\n",
       "    </tr>\n",
       "  </tbody>\n",
       "</table>\n",
       "</div>"
      ],
      "text/plain": [
       "                 Predicted no default  Predicted default\n",
       "Actul no defaul                   962                 19\n",
       "Actual default                     43                 13"
      ]
     },
     "execution_count": 113,
     "metadata": {},
     "output_type": "execute_result"
    }
   ],
   "source": [
    "cm_object3 = confusion_matrix(holdout_df[\"default\"], holdout_treshold, labels=[0, 1])\n",
    "cm3 = pd.DataFrame(\n",
    "    cm_object3,\n",
    "    index=[\"Actul no defaul\", \"Actual default\"],\n",
    "    columns=[\"Predicted no default\", \"Predicted default\"],\n",
    ")\n",
    "cm3"
   ]
  },
  {
   "cell_type": "markdown",
   "id": "2af6fd91-79c9-40d3-b88d-1ea8d2c3c11f",
   "metadata": {},
   "source": [
    "# Model Comparisons Based on Expected Loss on Holdout"
   ]
  },
  {
   "cell_type": "code",
   "execution_count": 139,
   "id": "9e9e5932-99f3-4232-b05b-58a001eddc3a",
   "metadata": {
    "tags": []
   },
   "outputs": [
    {
     "data": {
      "text/html": [
       "<div>\n",
       "<style scoped>\n",
       "    .dataframe tbody tr th:only-of-type {\n",
       "        vertical-align: middle;\n",
       "    }\n",
       "\n",
       "    .dataframe tbody tr th {\n",
       "        vertical-align: top;\n",
       "    }\n",
       "\n",
       "    .dataframe thead th {\n",
       "        text-align: right;\n",
       "    }\n",
       "</style>\n",
       "<table border=\"1\" class=\"dataframe\">\n",
       "  <thead>\n",
       "    <tr style=\"text-align: right;\">\n",
       "      <th></th>\n",
       "      <th>Model</th>\n",
       "      <th>Expected Loss on Holdout</th>\n",
       "    </tr>\n",
       "  </thead>\n",
       "  <tbody>\n",
       "    <tr>\n",
       "      <th>0</th>\n",
       "      <td>LASSO</td>\n",
       "      <td>2.00800</td>\n",
       "    </tr>\n",
       "    <tr>\n",
       "      <th>1</th>\n",
       "      <td>RF</td>\n",
       "      <td>0.56410</td>\n",
       "    </tr>\n",
       "    <tr>\n",
       "      <th>2</th>\n",
       "      <td>GBM</td>\n",
       "      <td>0.67700</td>\n",
       "    </tr>\n",
       "  </tbody>\n",
       "</table>\n",
       "</div>"
      ],
      "text/plain": [
       "   Model  Expected Loss on Holdout\n",
       "0  LASSO                   2.00800\n",
       "1     RF                   0.56410\n",
       "2    GBM                   0.67700"
      ]
     },
     "execution_count": 139,
     "metadata": {},
     "output_type": "execute_result"
    }
   ],
   "source": [
    "# Creating dataframe to display results neatly\n",
    "pd.DataFrame({'Model':['LASSO','RF','GBM'], 'Expected Loss on Holdout': [lasso_expected_loss, rf_expected_loss, gbm_expected_loss]})"
   ]
  },
  {
   "cell_type": "markdown",
   "id": "175a8827-7eb5-4645-8c7f-2d7e35cbb291",
   "metadata": {},
   "source": [
    "From this we can see that the Random Forest model is our best predictive model for predicting defaults in EU firms given our loss function definition.\n",
    "\n",
    "Below will be values and plots that are generated from the holdout set using the RF model's best estimator."
   ]
  },
  {
   "cell_type": "code",
   "execution_count": 154,
   "id": "b79d6088-d5ce-4997-8b34-0468eb022cb1",
   "metadata": {
    "tags": []
   },
   "outputs": [
    {
     "data": {
      "image/png": "[encoded data removed]",
      "text/plain": [
       "<Figure size 640x480 with 1 Axes>"
      ]
     },
     "metadata": {
      "image/png": {
       "height": 480,
       "width": 640
      }
     },
     "output_type": "display_data"
    },
    {
     "data": {
      "text/plain": [
       "<Figure Size: (640 x 480)>"
      ]
     },
     "execution_count": 154,
     "metadata": {},
     "output_type": "execute_result"
    }
   ],
   "source": [
    "false_pos_holdout, true_pos_holdout, threshold_holdout = roc_curve(y_holdout, rf_predicted_probabilities_holdout)\n",
    "\n",
    "holdout_best_threshold = sorted(list(zip(np.abs(true_pos_holdout + (1 - prevelance) / (cost * prevelance) * (1 - false_pos_holdout)), threshold_holdout,)), key=lambda x: x[0], reverse=True,)[0][1]\n",
    "\n",
    "holdout_coords_rf = pd.DataFrame(\n",
    "    {\n",
    "        \"false_pos\": false_pos_holdout * sum(y_holdout == 0),\n",
    "        \"true_pos\": true_pos_holdout * sum(y_holdout == 1),\n",
    "        \"false_neg\": sum(y_holdout == 1) - true_pos_holdout * sum(y_holdout == 1),\n",
    "        \"true_neg\": sum(y_holdout == 0) - false_pos_holdout * sum(y_holdout == 0),\n",
    "        \"pos\": sum(y_holdout == 1),\n",
    "        \"neg\": sum(y_holdout == 0),\n",
    "        \"n\": len(y_holdout),\n",
    "        \"thresholds\": threshold_holdout\n",
    "    }\n",
    ")\n",
    "\n",
    "create_loss_plot(holdout_coords_rf, holdout_best_threshold, rf_expected_loss)"
   ]
  },
  {
   "cell_type": "code",
   "execution_count": 152,
   "id": "d3c0b0ec-3799-470e-95e0-476312faf50f",
   "metadata": {
    "tags": []
   },
   "outputs": [
    {
     "data": {
      "image/png": "[encoded data removed]",
      "text/plain": [
       "<Figure size 640x480 with 1 Axes>"
      ]
     },
     "metadata": {
      "image/png": {
       "height": 480,
       "width": 640
      }
     },
     "output_type": "display_data"
    },
    {
     "data": {
      "text/plain": [
       "<Figure Size: (640 x 480)>"
      ]
     },
     "execution_count": 152,
     "metadata": {},
     "output_type": "execute_result"
    }
   ],
   "source": [
    "create_roc_plot_with_optimal(holdout_coords_rf, holdout_best_threshold)"
   ]
  },
  {
   "cell_type": "code",
   "execution_count": 170,
   "id": "f60dfb94-7e42-40be-bdf0-57f875eae06d",
   "metadata": {
    "tags": []
   },
   "outputs": [
    {
     "data": {
      "text/html": [
       "<div>\n",
       "<style scoped>\n",
       "    .dataframe tbody tr th:only-of-type {\n",
       "        vertical-align: middle;\n",
       "    }\n",
       "\n",
       "    .dataframe tbody tr th {\n",
       "        vertical-align: top;\n",
       "    }\n",
       "\n",
       "    .dataframe thead th {\n",
       "        text-align: right;\n",
       "    }\n",
       "</style>\n",
       "<table border=\"1\" class=\"dataframe\">\n",
       "  <thead>\n",
       "    <tr style=\"text-align: right;\">\n",
       "      <th></th>\n",
       "      <th>Model</th>\n",
       "      <th>Holdout Brier</th>\n",
       "      <th>Holdout AUC</th>\n",
       "      <th>Holdout Accuracy</th>\n",
       "      <th>Optimal Threshold Sensitivity</th>\n",
       "      <th>Optimal Threshold Specificity</th>\n",
       "    </tr>\n",
       "  </thead>\n",
       "  <tbody>\n",
       "    <tr>\n",
       "      <th>0</th>\n",
       "      <td>RF</td>\n",
       "      <td>0.04400</td>\n",
       "      <td>0.82260</td>\n",
       "      <td>0.94790</td>\n",
       "      <td>0.42860</td>\n",
       "      <td>0.96430</td>\n",
       "    </tr>\n",
       "  </tbody>\n",
       "</table>\n",
       "</div>"
      ],
      "text/plain": [
       "  Model  Holdout Brier  Holdout AUC  Holdout Accuracy  \\\n",
       "0    RF        0.04400      0.82260           0.94790   \n",
       "\n",
       "   Optimal Threshold Sensitivity  Optimal Threshold Specificity  \n",
       "0                        0.42860                        0.96430  "
      ]
     },
     "execution_count": 170,
     "metadata": {},
     "output_type": "execute_result"
    }
   ],
   "source": [
    "tnh, fph, fnh, tph = confusion_matrix(y_holdout, holdout_treshold, labels=[0, 1]).ravel()\n",
    "\n",
    "pd.DataFrame({'Model':'RF',\n",
    "              'Holdout Brier': round(brier_score_loss(y_holdout, rf_predicted_probabilities_holdout), 4),\n",
    "              'Holdout AUC': round(auc_rf, 4),\n",
    "              'Holdout Accuracy': round(accuracy_score(y_holdout, prob_forest_fit_best.predict(X_holdout)), 4),\n",
    "              'Optimal Threshold Sensitivity': round(tph / (tph + fnh), 4),\n",
    "              'Optimal Threshold Specificity': round(tnh / (tnh + fph), 4)\n",
    "             },\n",
    "             index=[0])"
   ]
  },
  {
   "cell_type": "code",
   "execution_count": 173,
   "id": "e1cb0b82-1dbe-4252-a1f0-9d54e0bccff5",
   "metadata": {
    "tags": []
   },
   "outputs": [
    {
     "data": {
      "text/plain": [
       "count   1037.00000\n",
       "mean       0.05400\n",
       "std        0.22613\n",
       "min        0.00000\n",
       "25%        0.00000\n",
       "50%        0.00000\n",
       "75%        0.00000\n",
       "max        1.00000\n",
       "Name: default, dtype: float64"
      ]
     },
     "execution_count": 173,
     "metadata": {},
     "output_type": "execute_result"
    }
   ],
   "source": [
    "holdout_df['default'].describe()"
   ]
  },
  {
   "cell_type": "code",
   "execution_count": null,
   "id": "30ccbb86-a25d-4b0f-9f9d-2c511f9aed7a",
   "metadata": {},
   "outputs": [],
   "source": []
  }
 ],
 "metadata": {
  "kernelspec": {
   "display_name": "Python 3 (ipykernel)",
   "language": "python",
   "name": "python3"
  },
  "language_info": {
   "codemirror_mode": {
    "name": "ipython",
    "version": 3
   },
   "file_extension": ".py",
   "mimetype": "text/x-python",
   "name": "python",
   "nbconvert_exporter": "python",
   "pygments_lexer": "ipython3",
   "version": "3.11.5"
  }
 },
 "nbformat": 4,
 "nbformat_minor": 5
}
